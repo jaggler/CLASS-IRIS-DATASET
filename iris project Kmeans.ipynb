{
 "cells": [
  {
   "cell_type": "markdown",
   "metadata": {},
   "source": [
    "# CLASS IRIS DATASET\n",
    "\n",
    "# 1.Business Understanding\n",
    "## Introduction\n",
    "\n",
    "* Grouping flowers based on there attributes\n",
    "\n",
    "\n",
    "# 1.1Problem Statement\n",
    "* Trying to use attributes of flowers to predict the species of the flower.We are tring to use sepal width and length and petal length and width topredict if a flowers is either species Iris-setosa,Iris-versicolor,Iris-virginica \n",
    "\n",
    "# 1.2 Objective\n",
    "## 1.2.1 Study Objective\n",
    "* The goal is to predict the species of the flower\n",
    "\n",
    "## 1.2.2 Specific Objectives\n",
    "\n",
    "\n",
    "# 2.0 Data Collection\n",
    "## 2.1 Source of the data\n",
    "* The data we are working with contains information from Iris Dataset\n",
    "\n",
    "# 3.1 Data Understanding\n",
    "### DataFrame\n"
   ]
  },
  {
   "cell_type": "code",
   "execution_count": 163,
   "metadata": {},
   "outputs": [],
   "source": [
    "# Importing relevant libraries\n",
    "# importing libraries\n",
    "\n",
    "import pandas as pd\n",
    "import seaborn as sns\n",
    "import numpy as np\n",
    "import statsmodels.api as sm\n",
    "from scipy.stats import norm\n",
    "import matplotlib.pyplot as plt\n",
    "from sklearn.cluster import KMeans\n",
    "from sklearn.linear_model import Lasso\n",
    "from sklearn.linear_model import Ridge\n",
    "from sklearn.tree import DecisionTreeClassifier\n",
    "from sklearn.preprocessing import MinMaxScaler\n",
    "from sklearn.decomposition import PCA\n",
    "from sklearn.tree import export_graphviz\n",
    "from category_encoders import OneHotEncoder\n",
    "from sklearn.preprocessing import LabelEncoder\n",
    "from sklearn.preprocessing import StandardScaler\n",
    "from sklearn.linear_model import LinearRegression\n",
    "from sklearn.model_selection import train_test_split\n",
    "from sklearn.linear_model import LogisticRegression\n",
    "from sklearn.metrics import mean_absolute_error, mean_squared_error\n",
    "from sklearn.metrics import accuracy_score, confusion_matrix, classification_report"
   ]
  },
  {
   "cell_type": "markdown",
   "metadata": {},
   "source": [
    "## 3.1.2 Datahead"
   ]
  },
  {
   "cell_type": "code",
   "execution_count": 67,
   "metadata": {},
   "outputs": [
    {
     "data": {
      "text/html": [
       "<div>\n",
       "<style scoped>\n",
       "    .dataframe tbody tr th:only-of-type {\n",
       "        vertical-align: middle;\n",
       "    }\n",
       "\n",
       "    .dataframe tbody tr th {\n",
       "        vertical-align: top;\n",
       "    }\n",
       "\n",
       "    .dataframe thead th {\n",
       "        text-align: right;\n",
       "    }\n",
       "</style>\n",
       "<table border=\"1\" class=\"dataframe\">\n",
       "  <thead>\n",
       "    <tr style=\"text-align: right;\">\n",
       "      <th></th>\n",
       "      <th>sepal_length</th>\n",
       "      <th>sepal_width</th>\n",
       "      <th>petal_length</th>\n",
       "      <th>petal_width</th>\n",
       "      <th>species</th>\n",
       "    </tr>\n",
       "  </thead>\n",
       "  <tbody>\n",
       "    <tr>\n",
       "      <th>0</th>\n",
       "      <td>5.1</td>\n",
       "      <td>3.5</td>\n",
       "      <td>1.4</td>\n",
       "      <td>0.2</td>\n",
       "      <td>Iris-setosa</td>\n",
       "    </tr>\n",
       "    <tr>\n",
       "      <th>1</th>\n",
       "      <td>4.9</td>\n",
       "      <td>3.0</td>\n",
       "      <td>1.4</td>\n",
       "      <td>0.2</td>\n",
       "      <td>Iris-setosa</td>\n",
       "    </tr>\n",
       "    <tr>\n",
       "      <th>2</th>\n",
       "      <td>4.7</td>\n",
       "      <td>3.2</td>\n",
       "      <td>1.3</td>\n",
       "      <td>0.2</td>\n",
       "      <td>Iris-setosa</td>\n",
       "    </tr>\n",
       "    <tr>\n",
       "      <th>3</th>\n",
       "      <td>4.6</td>\n",
       "      <td>3.1</td>\n",
       "      <td>1.5</td>\n",
       "      <td>0.2</td>\n",
       "      <td>Iris-setosa</td>\n",
       "    </tr>\n",
       "    <tr>\n",
       "      <th>4</th>\n",
       "      <td>5.0</td>\n",
       "      <td>3.6</td>\n",
       "      <td>1.4</td>\n",
       "      <td>0.2</td>\n",
       "      <td>Iris-setosa</td>\n",
       "    </tr>\n",
       "    <tr>\n",
       "      <th>5</th>\n",
       "      <td>5.4</td>\n",
       "      <td>3.9</td>\n",
       "      <td>1.7</td>\n",
       "      <td>0.4</td>\n",
       "      <td>Iris-setosa</td>\n",
       "    </tr>\n",
       "    <tr>\n",
       "      <th>6</th>\n",
       "      <td>4.6</td>\n",
       "      <td>3.4</td>\n",
       "      <td>1.4</td>\n",
       "      <td>0.3</td>\n",
       "      <td>Iris-setosa</td>\n",
       "    </tr>\n",
       "    <tr>\n",
       "      <th>7</th>\n",
       "      <td>5.0</td>\n",
       "      <td>3.4</td>\n",
       "      <td>1.5</td>\n",
       "      <td>0.2</td>\n",
       "      <td>Iris-setosa</td>\n",
       "    </tr>\n",
       "    <tr>\n",
       "      <th>8</th>\n",
       "      <td>4.4</td>\n",
       "      <td>2.9</td>\n",
       "      <td>1.4</td>\n",
       "      <td>0.2</td>\n",
       "      <td>Iris-setosa</td>\n",
       "    </tr>\n",
       "    <tr>\n",
       "      <th>9</th>\n",
       "      <td>4.9</td>\n",
       "      <td>3.1</td>\n",
       "      <td>1.5</td>\n",
       "      <td>0.1</td>\n",
       "      <td>Iris-setosa</td>\n",
       "    </tr>\n",
       "  </tbody>\n",
       "</table>\n",
       "</div>"
      ],
      "text/plain": [
       "   sepal_length  sepal_width  petal_length  petal_width      species\n",
       "0           5.1          3.5           1.4          0.2  Iris-setosa\n",
       "1           4.9          3.0           1.4          0.2  Iris-setosa\n",
       "2           4.7          3.2           1.3          0.2  Iris-setosa\n",
       "3           4.6          3.1           1.5          0.2  Iris-setosa\n",
       "4           5.0          3.6           1.4          0.2  Iris-setosa\n",
       "5           5.4          3.9           1.7          0.4  Iris-setosa\n",
       "6           4.6          3.4           1.4          0.3  Iris-setosa\n",
       "7           5.0          3.4           1.5          0.2  Iris-setosa\n",
       "8           4.4          2.9           1.4          0.2  Iris-setosa\n",
       "9           4.9          3.1           1.5          0.1  Iris-setosa"
      ]
     },
     "execution_count": 67,
     "metadata": {},
     "output_type": "execute_result"
    }
   ],
   "source": [
    "# Displaying the first 10 rows\n",
    "df = pd.read_csv(\"C:/Users/HP/Downloads/gomycode/Machine Learning/ project 7/IRIS.csv\")\n",
    "df.head(10)"
   ]
  },
  {
   "cell_type": "markdown",
   "metadata": {},
   "source": [
    "### 3.1.3 DataShape\n",
    "* Getting the shape of the dataset: Displaying the number of rows and columns"
   ]
  },
  {
   "cell_type": "code",
   "execution_count": 68,
   "metadata": {},
   "outputs": [
    {
     "name": "stdout",
     "output_type": "stream",
     "text": [
      "Our dataset has 150 rows and 5 columns\n"
     ]
    }
   ],
   "source": [
    "df.shape\n",
    "print(f'Our dataset has {df.shape[0]} rows and {df.shape[1]} columns')"
   ]
  },
  {
   "cell_type": "markdown",
   "metadata": {},
   "source": [
    "### 3.1.4 Data Information\n",
    "* The information displayed is the number of null rows in every column,the data type of each element in the rows and the names of each column  in the dataset."
   ]
  },
  {
   "cell_type": "code",
   "execution_count": 69,
   "metadata": {},
   "outputs": [
    {
     "name": "stdout",
     "output_type": "stream",
     "text": [
      "<class 'pandas.core.frame.DataFrame'>\n",
      "RangeIndex: 150 entries, 0 to 149\n",
      "Data columns (total 5 columns):\n",
      " #   Column        Non-Null Count  Dtype  \n",
      "---  ------        --------------  -----  \n",
      " 0   sepal_length  150 non-null    float64\n",
      " 1   sepal_width   150 non-null    float64\n",
      " 2   petal_length  150 non-null    float64\n",
      " 3   petal_width   150 non-null    float64\n",
      " 4   species       150 non-null    object \n",
      "dtypes: float64(4), object(1)\n",
      "memory usage: 5.3+ KB\n"
     ]
    }
   ],
   "source": [
    "df.info()\n",
    " "
   ]
  },
  {
   "cell_type": "markdown",
   "metadata": {},
   "source": [
    "* The dataset comprises 150 entries with no missing values across 5 columns."
   ]
  },
  {
   "cell_type": "code",
   "execution_count": 70,
   "metadata": {},
   "outputs": [
    {
     "data": {
      "text/plain": [
       "species\n",
       "Iris-setosa        50\n",
       "Iris-versicolor    50\n",
       "Iris-virginica     50\n",
       "dtype: int64"
      ]
     },
     "execution_count": 70,
     "metadata": {},
     "output_type": "execute_result"
    }
   ],
   "source": [
    "df.value_counts('species')"
   ]
  },
  {
   "cell_type": "code",
   "execution_count": 72,
   "metadata": {},
   "outputs": [
    {
     "data": {
      "text/plain": [
       "Index(['sepal_length', 'sepal_width', 'petal_length', 'petal_width',\n",
       "       'species'],\n",
       "      dtype='object')"
      ]
     },
     "execution_count": 72,
     "metadata": {},
     "output_type": "execute_result"
    }
   ],
   "source": [
    "df.columns"
   ]
  },
  {
   "cell_type": "markdown",
   "metadata": {},
   "source": [
    "## Scatterplot to display the species"
   ]
  },
  {
   "cell_type": "code",
   "execution_count": 75,
   "metadata": {},
   "outputs": [
    {
     "data": {
      "image/png": "[encoded data removed]",
      "text/plain": [
       "<Figure size 720x432 with 1 Axes>"
      ]
     },
     "metadata": {
      "needs_background": "light"
     },
     "output_type": "display_data"
    }
   ],
   "source": [
    "colors = ['red','orange','blue']\n",
    "species =['Iris-setosa', 'Iris-versicolor', 'Iris-virginica']\n",
    "# Plotting\n",
    "plt.figure(figsize=(10, 6))\n",
    "\n",
    "for i in range(3):\n",
    "    x = df[df['species'] == species[i]]\n",
    "    plt.scatter(x['sepal_length'], x['sepal_width'], c=colors[i], label=species[i])\n",
    "\n",
    "plt.xlabel('Sepal Length (cm)')\n",
    "plt.ylabel('Sepal Width (cm)')\n",
    "plt.title('Scatter Plot of Sepal Length vs Sepal Width for Different Iris Species')\n",
    "plt.legend()\n",
    "plt.show()"
   ]
  },
  {
   "cell_type": "markdown",
   "metadata": {},
   "source": [
    "### 3.1.5 Data Details\n",
    "* Getting the percentage of missing data in our dataset"
   ]
  },
  {
   "cell_type": "code",
   "execution_count": 76,
   "metadata": {},
   "outputs": [
    {
     "data": {
      "text/plain": [
       "sepal_length    0.0\n",
       "sepal_width     0.0\n",
       "petal_length    0.0\n",
       "petal_width     0.0\n",
       "species         0.0\n",
       "dtype: float64"
      ]
     },
     "execution_count": 76,
     "metadata": {},
     "output_type": "execute_result"
    }
   ],
   "source": [
    "# Geting the null values in the data\n",
    "df.isnull().sum()/df.shape[0]*100\n"
   ]
  },
  {
   "cell_type": "markdown",
   "metadata": {},
   "source": [
    "### 3.1.7 Data Description\n",
    "* Getting the mean , maximum , minimum  and standard deviation from the dataset"
   ]
  },
  {
   "cell_type": "code",
   "execution_count": 77,
   "metadata": {},
   "outputs": [
    {
     "data": {
      "text/html": [
       "<div>\n",
       "<style scoped>\n",
       "    .dataframe tbody tr th:only-of-type {\n",
       "        vertical-align: middle;\n",
       "    }\n",
       "\n",
       "    .dataframe tbody tr th {\n",
       "        vertical-align: top;\n",
       "    }\n",
       "\n",
       "    .dataframe thead th {\n",
       "        text-align: right;\n",
       "    }\n",
       "</style>\n",
       "<table border=\"1\" class=\"dataframe\">\n",
       "  <thead>\n",
       "    <tr style=\"text-align: right;\">\n",
       "      <th></th>\n",
       "      <th>count</th>\n",
       "      <th>mean</th>\n",
       "      <th>std</th>\n",
       "      <th>min</th>\n",
       "      <th>25%</th>\n",
       "      <th>50%</th>\n",
       "      <th>75%</th>\n",
       "      <th>max</th>\n",
       "    </tr>\n",
       "  </thead>\n",
       "  <tbody>\n",
       "    <tr>\n",
       "      <th>sepal_length</th>\n",
       "      <td>150.0</td>\n",
       "      <td>5.843333</td>\n",
       "      <td>0.828066</td>\n",
       "      <td>4.3</td>\n",
       "      <td>5.1</td>\n",
       "      <td>5.80</td>\n",
       "      <td>6.4</td>\n",
       "      <td>7.9</td>\n",
       "    </tr>\n",
       "    <tr>\n",
       "      <th>sepal_width</th>\n",
       "      <td>150.0</td>\n",
       "      <td>3.054000</td>\n",
       "      <td>0.433594</td>\n",
       "      <td>2.0</td>\n",
       "      <td>2.8</td>\n",
       "      <td>3.00</td>\n",
       "      <td>3.3</td>\n",
       "      <td>4.4</td>\n",
       "    </tr>\n",
       "    <tr>\n",
       "      <th>petal_length</th>\n",
       "      <td>150.0</td>\n",
       "      <td>3.758667</td>\n",
       "      <td>1.764420</td>\n",
       "      <td>1.0</td>\n",
       "      <td>1.6</td>\n",
       "      <td>4.35</td>\n",
       "      <td>5.1</td>\n",
       "      <td>6.9</td>\n",
       "    </tr>\n",
       "    <tr>\n",
       "      <th>petal_width</th>\n",
       "      <td>150.0</td>\n",
       "      <td>1.198667</td>\n",
       "      <td>0.763161</td>\n",
       "      <td>0.1</td>\n",
       "      <td>0.3</td>\n",
       "      <td>1.30</td>\n",
       "      <td>1.8</td>\n",
       "      <td>2.5</td>\n",
       "    </tr>\n",
       "  </tbody>\n",
       "</table>\n",
       "</div>"
      ],
      "text/plain": [
       "              count      mean       std  min  25%   50%  75%  max\n",
       "sepal_length  150.0  5.843333  0.828066  4.3  5.1  5.80  6.4  7.9\n",
       "sepal_width   150.0  3.054000  0.433594  2.0  2.8  3.00  3.3  4.4\n",
       "petal_length  150.0  3.758667  1.764420  1.0  1.6  4.35  5.1  6.9\n",
       "petal_width   150.0  1.198667  0.763161  0.1  0.3  1.30  1.8  2.5"
      ]
     },
     "execution_count": 77,
     "metadata": {},
     "output_type": "execute_result"
    }
   ],
   "source": [
    "df.describe().T"
   ]
  },
  {
   "cell_type": "markdown",
   "metadata": {},
   "source": [
    "# 4.0 Data Cleaning\n",
    "## 4.1 Dropping Duplicates in the data"
   ]
  },
  {
   "cell_type": "code",
   "execution_count": 78,
   "metadata": {},
   "outputs": [
    {
     "data": {
      "text/plain": [
       "3"
      ]
     },
     "execution_count": 78,
     "metadata": {},
     "output_type": "execute_result"
    }
   ],
   "source": [
    "# Geting the amount of duplicated items in the dataset\n",
    "df.duplicated().sum()\n"
   ]
  },
  {
   "cell_type": "code",
   "execution_count": 79,
   "metadata": {},
   "outputs": [],
   "source": [
    "df.drop_duplicates(subset=None, keep='first', inplace=True)\n"
   ]
  },
  {
   "cell_type": "markdown",
   "metadata": {},
   "source": [
    "# 5.0 Data Understanding (EDA)\n",
    "\n",
    "* The main aim of EDA in the dataset is to get an understanding of the Data, Gain insights into the dataset's structure, patterns, and relationships. This involves summarizing the main characteristics of the data, often with visual methods. "
   ]
  },
  {
   "cell_type": "code",
   "execution_count": 80,
   "metadata": {},
   "outputs": [],
   "source": [
    "# Making a coy of the dataframe\n",
    "data = df.copy(deep=True)"
   ]
  },
  {
   "cell_type": "code",
   "execution_count": 81,
   "metadata": {},
   "outputs": [
    {
     "data": {
      "text/html": [
       "<div>\n",
       "<style scoped>\n",
       "    .dataframe tbody tr th:only-of-type {\n",
       "        vertical-align: middle;\n",
       "    }\n",
       "\n",
       "    .dataframe tbody tr th {\n",
       "        vertical-align: top;\n",
       "    }\n",
       "\n",
       "    .dataframe thead th {\n",
       "        text-align: right;\n",
       "    }\n",
       "</style>\n",
       "<table border=\"1\" class=\"dataframe\">\n",
       "  <thead>\n",
       "    <tr style=\"text-align: right;\">\n",
       "      <th></th>\n",
       "      <th>sepal_length</th>\n",
       "      <th>sepal_width</th>\n",
       "      <th>petal_length</th>\n",
       "      <th>petal_width</th>\n",
       "    </tr>\n",
       "  </thead>\n",
       "  <tbody>\n",
       "    <tr>\n",
       "      <th>sepal_length</th>\n",
       "      <td>1.000000</td>\n",
       "      <td>-0.109321</td>\n",
       "      <td>0.871305</td>\n",
       "      <td>0.817058</td>\n",
       "    </tr>\n",
       "    <tr>\n",
       "      <th>sepal_width</th>\n",
       "      <td>-0.109321</td>\n",
       "      <td>1.000000</td>\n",
       "      <td>-0.421057</td>\n",
       "      <td>-0.356376</td>\n",
       "    </tr>\n",
       "    <tr>\n",
       "      <th>petal_length</th>\n",
       "      <td>0.871305</td>\n",
       "      <td>-0.421057</td>\n",
       "      <td>1.000000</td>\n",
       "      <td>0.961883</td>\n",
       "    </tr>\n",
       "    <tr>\n",
       "      <th>petal_width</th>\n",
       "      <td>0.817058</td>\n",
       "      <td>-0.356376</td>\n",
       "      <td>0.961883</td>\n",
       "      <td>1.000000</td>\n",
       "    </tr>\n",
       "  </tbody>\n",
       "</table>\n",
       "</div>"
      ],
      "text/plain": [
       "              sepal_length  sepal_width  petal_length  petal_width\n",
       "sepal_length      1.000000    -0.109321      0.871305     0.817058\n",
       "sepal_width      -0.109321     1.000000     -0.421057    -0.356376\n",
       "petal_length      0.871305    -0.421057      1.000000     0.961883\n",
       "petal_width       0.817058    -0.356376      0.961883     1.000000"
      ]
     },
     "execution_count": 81,
     "metadata": {},
     "output_type": "execute_result"
    }
   ],
   "source": [
    "df.corr()"
   ]
  },
  {
   "cell_type": "markdown",
   "metadata": {},
   "source": [
    "### 5.1 Heatmap to display the correlation"
   ]
  },
  {
   "cell_type": "code",
   "execution_count": 82,
   "metadata": {},
   "outputs": [
    {
     "data": {
      "image/png": "[encoded data removed]",
      "text/plain": [
       "<Figure size 864x720 with 2 Axes>"
      ]
     },
     "metadata": {
      "needs_background": "light"
     },
     "output_type": "display_data"
    }
   ],
   "source": [
    "# Plot correlation heatmap with triane shape\n",
    "plt.figure(figsize = (12,10))\n",
    "sns.heatmap(df.corr(),annot = True, cmap = 'coolwarm')\n",
    "plt.title('Correlation HeatMap')\n",
    "plt.show()"
   ]
  },
  {
   "cell_type": "markdown",
   "metadata": {},
   "source": [
    "### 5.2 Identifing and removing Outliers column by column"
   ]
  },
  {
   "cell_type": "code",
   "execution_count": 83,
   "metadata": {},
   "outputs": [
    {
     "data": {
      "text/plain": [
       "Index(['sepal_length', 'sepal_width', 'petal_length', 'petal_width',\n",
       "       'species'],\n",
       "      dtype='object')"
      ]
     },
     "execution_count": 83,
     "metadata": {},
     "output_type": "execute_result"
    }
   ],
   "source": [
    "df.columns"
   ]
  },
  {
   "cell_type": "code",
   "execution_count": 84,
   "metadata": {},
   "outputs": [
    {
     "data": {
      "image/png": "[encoded data removed]",
      "text/plain": [
       "<Figure size 1440x1440 with 4 Axes>"
      ]
     },
     "metadata": {
      "needs_background": "light"
     },
     "output_type": "display_data"
    }
   ],
   "source": [
    "\n",
    "p = df.hist(figsize= (20,20))"
   ]
  },
  {
   "cell_type": "markdown",
   "metadata": {},
   "source": [
    "### Function to display_boxplots for the columns"
   ]
  },
  {
   "cell_type": "code",
   "execution_count": 85,
   "metadata": {},
   "outputs": [
    {
     "data": {
      "image/png": "[encoded data removed]",
      "text/plain": [
       "<Figure size 432x288 with 1 Axes>"
      ]
     },
     "metadata": {
      "needs_background": "light"
     },
     "output_type": "display_data"
    }
   ],
   "source": [
    "\n",
    "sns.boxplot(df['sepal_length']);\n"
   ]
  },
  {
   "cell_type": "code",
   "execution_count": 86,
   "metadata": {},
   "outputs": [
    {
     "data": {
      "image/png": "[encoded data removed]",
      "text/plain": [
       "<Figure size 432x288 with 1 Axes>"
      ]
     },
     "metadata": {
      "needs_background": "light"
     },
     "output_type": "display_data"
    }
   ],
   "source": [
    "sns.boxplot(df['sepal_width']);"
   ]
  },
  {
   "cell_type": "code",
   "execution_count": 87,
   "metadata": {},
   "outputs": [
    {
     "data": {
      "image/png": "[encoded data removed]",
      "text/plain": [
       "<Figure size 432x288 with 1 Axes>"
      ]
     },
     "metadata": {
      "needs_background": "light"
     },
     "output_type": "display_data"
    }
   ],
   "source": [
    "sns.boxplot(df['petal_length']);"
   ]
  },
  {
   "cell_type": "code",
   "execution_count": 88,
   "metadata": {},
   "outputs": [
    {
     "data": {
      "image/png": "[encoded data removed]",
      "text/plain": [
       "<Figure size 432x288 with 1 Axes>"
      ]
     },
     "metadata": {
      "needs_background": "light"
     },
     "output_type": "display_data"
    }
   ],
   "source": [
    "sns.boxplot(df['petal_width']);"
   ]
  },
  {
   "cell_type": "markdown",
   "metadata": {},
   "source": [
    "## 5.3 Removing Outliers in the dataset"
   ]
  },
  {
   "cell_type": "code",
   "execution_count": 89,
   "metadata": {},
   "outputs": [],
   "source": [
    "def remove_outliers(df, columns):\n",
    "    \"\"\"\n",
    "    Remove outliers from a DataFrame based on IQR method.\n",
    "\n",
    "    Parameters:\n",
    "    - df: DataFrame containing the data\n",
    "    - columns: List of columns in which to remove outliers\n",
    "\n",
    "    Returns:\n",
    "    - DataFrame without outliers in specified columns\n",
    "    \"\"\"\n",
    "\n",
    "    # Create a copy of the original DataFrame to avoid modifying it\n",
    "    df_clean = df.copy()\n",
    "\n",
    "    # Iterate over each column\n",
    "    for col in columns:\n",
    "        # Calculate Q1 (25th percentile) and Q3 (75th percentile)\n",
    "        Q1 = df_clean[col].quantile(0.25)\n",
    "        Q3 = df_clean[col].quantile(0.75)\n",
    "\n",
    "        # Calculate IQR (Interquartile Range)\n",
    "        IQR = Q3 - Q1\n",
    "\n",
    "        # Calculate upper and lower bounds to identify outliers\n",
    "        lower_bound = Q1 - 1.5 * IQR\n",
    "        upper_bound = Q3 + 1.5 * IQR\n",
    "\n",
    "        # Filter out outliers\n",
    "        df_clean = df_clean[(df_clean[col] >= lower_bound) & (df_clean[col] <= upper_bound)]\n",
    "\n",
    "    return df_clean"
   ]
  },
  {
   "cell_type": "code",
   "execution_count": 101,
   "metadata": {},
   "outputs": [
    {
     "data": {
      "text/plain": [
       "Index(['sepal_length', 'sepal_width', 'petal_length', 'petal_width',\n",
       "       'species'],\n",
       "      dtype='object')"
      ]
     },
     "execution_count": 101,
     "metadata": {},
     "output_type": "execute_result"
    }
   ],
   "source": [
    "df.columns"
   ]
  },
  {
   "cell_type": "code",
   "execution_count": 102,
   "metadata": {},
   "outputs": [],
   "source": [
    "# 5.2 Defining the columns to clean\n",
    "columns_clean = ['sepal_length', 'sepal_width', 'petal_length', 'petal_width']"
   ]
  },
  {
   "cell_type": "code",
   "execution_count": 103,
   "metadata": {},
   "outputs": [
    {
     "data": {
      "text/html": [
       "<div>\n",
       "<style scoped>\n",
       "    .dataframe tbody tr th:only-of-type {\n",
       "        vertical-align: middle;\n",
       "    }\n",
       "\n",
       "    .dataframe tbody tr th {\n",
       "        vertical-align: top;\n",
       "    }\n",
       "\n",
       "    .dataframe thead th {\n",
       "        text-align: right;\n",
       "    }\n",
       "</style>\n",
       "<table border=\"1\" class=\"dataframe\">\n",
       "  <thead>\n",
       "    <tr style=\"text-align: right;\">\n",
       "      <th></th>\n",
       "      <th>sepal_length</th>\n",
       "      <th>sepal_width</th>\n",
       "      <th>petal_length</th>\n",
       "      <th>petal_width</th>\n",
       "      <th>species</th>\n",
       "    </tr>\n",
       "  </thead>\n",
       "  <tbody>\n",
       "    <tr>\n",
       "      <th>0</th>\n",
       "      <td>5.1</td>\n",
       "      <td>3.5</td>\n",
       "      <td>1.4</td>\n",
       "      <td>0.2</td>\n",
       "      <td>Iris-setosa</td>\n",
       "    </tr>\n",
       "    <tr>\n",
       "      <th>1</th>\n",
       "      <td>4.9</td>\n",
       "      <td>3.0</td>\n",
       "      <td>1.4</td>\n",
       "      <td>0.2</td>\n",
       "      <td>Iris-setosa</td>\n",
       "    </tr>\n",
       "    <tr>\n",
       "      <th>2</th>\n",
       "      <td>4.7</td>\n",
       "      <td>3.2</td>\n",
       "      <td>1.3</td>\n",
       "      <td>0.2</td>\n",
       "      <td>Iris-setosa</td>\n",
       "    </tr>\n",
       "    <tr>\n",
       "      <th>3</th>\n",
       "      <td>4.6</td>\n",
       "      <td>3.1</td>\n",
       "      <td>1.5</td>\n",
       "      <td>0.2</td>\n",
       "      <td>Iris-setosa</td>\n",
       "    </tr>\n",
       "    <tr>\n",
       "      <th>4</th>\n",
       "      <td>5.0</td>\n",
       "      <td>3.6</td>\n",
       "      <td>1.4</td>\n",
       "      <td>0.2</td>\n",
       "      <td>Iris-setosa</td>\n",
       "    </tr>\n",
       "    <tr>\n",
       "      <th>...</th>\n",
       "      <td>...</td>\n",
       "      <td>...</td>\n",
       "      <td>...</td>\n",
       "      <td>...</td>\n",
       "      <td>...</td>\n",
       "    </tr>\n",
       "    <tr>\n",
       "      <th>145</th>\n",
       "      <td>6.7</td>\n",
       "      <td>3.0</td>\n",
       "      <td>5.2</td>\n",
       "      <td>2.3</td>\n",
       "      <td>Iris-virginica</td>\n",
       "    </tr>\n",
       "    <tr>\n",
       "      <th>146</th>\n",
       "      <td>6.3</td>\n",
       "      <td>2.5</td>\n",
       "      <td>5.0</td>\n",
       "      <td>1.9</td>\n",
       "      <td>Iris-virginica</td>\n",
       "    </tr>\n",
       "    <tr>\n",
       "      <th>147</th>\n",
       "      <td>6.5</td>\n",
       "      <td>3.0</td>\n",
       "      <td>5.2</td>\n",
       "      <td>2.0</td>\n",
       "      <td>Iris-virginica</td>\n",
       "    </tr>\n",
       "    <tr>\n",
       "      <th>148</th>\n",
       "      <td>6.2</td>\n",
       "      <td>3.4</td>\n",
       "      <td>5.4</td>\n",
       "      <td>2.3</td>\n",
       "      <td>Iris-virginica</td>\n",
       "    </tr>\n",
       "    <tr>\n",
       "      <th>149</th>\n",
       "      <td>5.9</td>\n",
       "      <td>3.0</td>\n",
       "      <td>5.1</td>\n",
       "      <td>1.8</td>\n",
       "      <td>Iris-virginica</td>\n",
       "    </tr>\n",
       "  </tbody>\n",
       "</table>\n",
       "<p>143 rows × 5 columns</p>\n",
       "</div>"
      ],
      "text/plain": [
       "     sepal_length  sepal_width  petal_length  petal_width         species\n",
       "0             5.1          3.5           1.4          0.2     Iris-setosa\n",
       "1             4.9          3.0           1.4          0.2     Iris-setosa\n",
       "2             4.7          3.2           1.3          0.2     Iris-setosa\n",
       "3             4.6          3.1           1.5          0.2     Iris-setosa\n",
       "4             5.0          3.6           1.4          0.2     Iris-setosa\n",
       "..            ...          ...           ...          ...             ...\n",
       "145           6.7          3.0           5.2          2.3  Iris-virginica\n",
       "146           6.3          2.5           5.0          1.9  Iris-virginica\n",
       "147           6.5          3.0           5.2          2.0  Iris-virginica\n",
       "148           6.2          3.4           5.4          2.3  Iris-virginica\n",
       "149           5.9          3.0           5.1          1.8  Iris-virginica\n",
       "\n",
       "[143 rows x 5 columns]"
      ]
     },
     "execution_count": 103,
     "metadata": {},
     "output_type": "execute_result"
    }
   ],
   "source": [
    "df_cleaned =remove_outliers(df,columns_clean )\n",
    "df_cleaned"
   ]
  },
  {
   "cell_type": "code",
   "execution_count": 104,
   "metadata": {},
   "outputs": [
    {
     "name": "stdout",
     "output_type": "stream",
     "text": [
      " Original dataframe: 147\n",
      " Cleaned dataframe: 143\n"
     ]
    }
   ],
   "source": [
    "#Comparing the length of the df_cleaned and the original df\n",
    "print(f\" Original dataframe: {len(df)}\") \n",
    "print(f\" Cleaned dataframe: {len(df_cleaned)}\") "
   ]
  },
  {
   "cell_type": "markdown",
   "metadata": {},
   "source": [
    "## 5.4 Displaing columns after removing outliers"
   ]
  },
  {
   "cell_type": "code",
   "execution_count": 105,
   "metadata": {},
   "outputs": [],
   "source": [
    "def display_boxplots(df, columns_clean):\n",
    "    \"\"\"\n",
    "    Display box plots for specified columns in a DataFrame to identify outliers.\n",
    "\n",
    "    Parameters:\n",
    "    - df: DataFrame containing the data\n",
    "    - columns: List of columns to plot box plots for\n",
    "\n",
    "    Returns:\n",
    "    - None\n",
    "    \"\"\"\n",
    "    # Set up the matplotlib figure\n",
    "    num_cols = len(columns)\n",
    "    fig, axes = plt.subplots(nrows=1, ncols=num_cols, figsize=(2*num_cols, 5))\n",
    "\n",
    "    # If only one column is provided, 'axes' is not a list but a single Axes object\n",
    "    if num_cols == 1:\n",
    "        axes = [axes]\n",
    "\n",
    "    # Create box plots for each specified column\n",
    "    for ax, col in zip(axes, columns):\n",
    "        sns.boxplot(y=df[col], ax=ax)\n",
    "        ax.set_title(f'Box Plot of {col}')\n",
    "\n",
    "    plt.tight_layout()\n",
    "    plt.show()"
   ]
  },
  {
   "cell_type": "code",
   "execution_count": null,
   "metadata": {},
   "outputs": [],
   "source": []
  },
  {
   "cell_type": "markdown",
   "metadata": {},
   "source": [
    "## Label Encoder"
   ]
  },
  {
   "cell_type": "code",
   "execution_count": 111,
   "metadata": {},
   "outputs": [
    {
     "data": {
      "text/html": [
       "<div>\n",
       "<style scoped>\n",
       "    .dataframe tbody tr th:only-of-type {\n",
       "        vertical-align: middle;\n",
       "    }\n",
       "\n",
       "    .dataframe tbody tr th {\n",
       "        vertical-align: top;\n",
       "    }\n",
       "\n",
       "    .dataframe thead th {\n",
       "        text-align: right;\n",
       "    }\n",
       "</style>\n",
       "<table border=\"1\" class=\"dataframe\">\n",
       "  <thead>\n",
       "    <tr style=\"text-align: right;\">\n",
       "      <th></th>\n",
       "      <th>sepal_length</th>\n",
       "      <th>sepal_width</th>\n",
       "      <th>petal_length</th>\n",
       "      <th>petal_width</th>\n",
       "      <th>species</th>\n",
       "    </tr>\n",
       "  </thead>\n",
       "  <tbody>\n",
       "    <tr>\n",
       "      <th>0</th>\n",
       "      <td>5.1</td>\n",
       "      <td>3.5</td>\n",
       "      <td>1.4</td>\n",
       "      <td>0.2</td>\n",
       "      <td>0</td>\n",
       "    </tr>\n",
       "    <tr>\n",
       "      <th>1</th>\n",
       "      <td>4.9</td>\n",
       "      <td>3.0</td>\n",
       "      <td>1.4</td>\n",
       "      <td>0.2</td>\n",
       "      <td>0</td>\n",
       "    </tr>\n",
       "    <tr>\n",
       "      <th>2</th>\n",
       "      <td>4.7</td>\n",
       "      <td>3.2</td>\n",
       "      <td>1.3</td>\n",
       "      <td>0.2</td>\n",
       "      <td>0</td>\n",
       "    </tr>\n",
       "    <tr>\n",
       "      <th>3</th>\n",
       "      <td>4.6</td>\n",
       "      <td>3.1</td>\n",
       "      <td>1.5</td>\n",
       "      <td>0.2</td>\n",
       "      <td>0</td>\n",
       "    </tr>\n",
       "    <tr>\n",
       "      <th>4</th>\n",
       "      <td>5.0</td>\n",
       "      <td>3.6</td>\n",
       "      <td>1.4</td>\n",
       "      <td>0.2</td>\n",
       "      <td>0</td>\n",
       "    </tr>\n",
       "    <tr>\n",
       "      <th>5</th>\n",
       "      <td>5.4</td>\n",
       "      <td>3.9</td>\n",
       "      <td>1.7</td>\n",
       "      <td>0.4</td>\n",
       "      <td>0</td>\n",
       "    </tr>\n",
       "    <tr>\n",
       "      <th>6</th>\n",
       "      <td>4.6</td>\n",
       "      <td>3.4</td>\n",
       "      <td>1.4</td>\n",
       "      <td>0.3</td>\n",
       "      <td>0</td>\n",
       "    </tr>\n",
       "    <tr>\n",
       "      <th>7</th>\n",
       "      <td>5.0</td>\n",
       "      <td>3.4</td>\n",
       "      <td>1.5</td>\n",
       "      <td>0.2</td>\n",
       "      <td>0</td>\n",
       "    </tr>\n",
       "    <tr>\n",
       "      <th>8</th>\n",
       "      <td>4.4</td>\n",
       "      <td>2.9</td>\n",
       "      <td>1.4</td>\n",
       "      <td>0.2</td>\n",
       "      <td>0</td>\n",
       "    </tr>\n",
       "    <tr>\n",
       "      <th>9</th>\n",
       "      <td>4.9</td>\n",
       "      <td>3.1</td>\n",
       "      <td>1.5</td>\n",
       "      <td>0.1</td>\n",
       "      <td>0</td>\n",
       "    </tr>\n",
       "  </tbody>\n",
       "</table>\n",
       "</div>"
      ],
      "text/plain": [
       "   sepal_length  sepal_width  petal_length  petal_width  species\n",
       "0           5.1          3.5           1.4          0.2        0\n",
       "1           4.9          3.0           1.4          0.2        0\n",
       "2           4.7          3.2           1.3          0.2        0\n",
       "3           4.6          3.1           1.5          0.2        0\n",
       "4           5.0          3.6           1.4          0.2        0\n",
       "5           5.4          3.9           1.7          0.4        0\n",
       "6           4.6          3.4           1.4          0.3        0\n",
       "7           5.0          3.4           1.5          0.2        0\n",
       "8           4.4          2.9           1.4          0.2        0\n",
       "9           4.9          3.1           1.5          0.1        0"
      ]
     },
     "execution_count": 111,
     "metadata": {},
     "output_type": "execute_result"
    }
   ],
   "source": [
    "le = LabelEncoder()\n",
    "df_cleaned['species'] = le.fit_transform(df_cleaned['species'])\n",
    "df_cleaned.head(10)"
   ]
  },
  {
   "cell_type": "markdown",
   "metadata": {},
   "source": [
    "# Model Training"
   ]
  },
  {
   "cell_type": "markdown",
   "metadata": {},
   "source": [
    "## Baseline Model"
   ]
  },
  {
   "cell_type": "markdown",
   "metadata": {},
   "source": [
    "## 6.1 Defining the X and y"
   ]
  },
  {
   "cell_type": "code",
   "execution_count": 113,
   "metadata": {},
   "outputs": [],
   "source": [
    "target = 'species'\n",
    "X = df_cleaned.drop(target,axis=1)\n",
    "y = df_cleaned[target]"
   ]
  },
  {
   "cell_type": "markdown",
   "metadata": {},
   "source": [
    "## 6.2 Scaling and fiting and splitting "
   ]
  },
  {
   "cell_type": "code",
   "execution_count": 116,
   "metadata": {},
   "outputs": [],
   "source": [
    "# splitting the data set into x test, x train, y test y train\n",
    "X_train, X_test, y_train, y_test = train_test_split(X, y, test_size=0.2, random_state = 42)"
   ]
  },
  {
   "cell_type": "markdown",
   "metadata": {},
   "source": [
    "## Using the Ordinary Least Squares Regression"
   ]
  },
  {
   "cell_type": "code",
   "execution_count": 118,
   "metadata": {},
   "outputs": [
    {
     "name": "stderr",
     "output_type": "stream",
     "text": [
      "C:\\Users\\HP\\anaconda3\\lib\\site-packages\\statsmodels\\tsa\\tsatools.py:130: FutureWarning: In a future version of pandas all arguments of concat except for the argument 'objs' will be keyword-only\n",
      "  x = pd.concat(x[::order], 1)\n"
     ]
    },
    {
     "name": "stdout",
     "output_type": "stream",
     "text": [
      "                            OLS Regression Results                            \n",
      "==============================================================================\n",
      "Dep. Variable:                species   R-squared:                       0.927\n",
      "Model:                            OLS   Adj. R-squared:                  0.925\n",
      "Method:                 Least Squares   F-statistic:                     440.5\n",
      "Date:                Tue, 09 Jul 2024   Prob (F-statistic):           1.70e-77\n",
      "Time:                        11:32:24   Log-Likelihood:                 14.673\n",
      "No. Observations:                 143   AIC:                            -19.35\n",
      "Df Residuals:                     138   BIC:                            -4.533\n",
      "Df Model:                           4                                         \n",
      "Covariance Type:            nonrobust                                         \n",
      "================================================================================\n",
      "                   coef    std err          t      P>|t|      [0.025      0.975]\n",
      "--------------------------------------------------------------------------------\n",
      "const            0.2030      0.221      0.920      0.359      -0.233       0.639\n",
      "sepal_length    -0.0998      0.059     -1.686      0.094      -0.217       0.017\n",
      "sepal_width     -0.0627      0.065     -0.966      0.336      -0.191       0.066\n",
      "petal_length     0.2179      0.058      3.730      0.000       0.102       0.333\n",
      "petal_width      0.6230      0.097      6.416      0.000       0.431       0.815\n",
      "==============================================================================\n",
      "Omnibus:                        0.142   Durbin-Watson:                   1.049\n",
      "Prob(Omnibus):                  0.931   Jarque-Bera (JB):                0.011\n",
      "Skew:                          -0.011   Prob(JB):                        0.994\n",
      "Kurtosis:                       3.038   Cond. No.                         95.9\n",
      "==============================================================================\n",
      "\n",
      "Warnings:\n",
      "[1] Standard Errors assume that the covariance matrix of the errors is correctly specified.\n"
     ]
    }
   ],
   "source": [
    "baseline_model = sm.OLS(y, sm.add_constant(X))\n",
    "baseline_results = baseline_model.fit()\n",
    "print(baseline_results.summary())"
   ]
  },
  {
   "cell_type": "markdown",
   "metadata": {},
   "source": [
    "## Logistic Model"
   ]
  },
  {
   "cell_type": "code",
   "execution_count": 123,
   "metadata": {},
   "outputs": [],
   "source": [
    "# Fitting the logistic Regression model\n",
    "Lo_model = LogisticRegression()\n"
   ]
  },
  {
   "cell_type": "code",
   "execution_count": 124,
   "metadata": {},
   "outputs": [
    {
     "name": "stderr",
     "output_type": "stream",
     "text": [
      "C:\\Users\\HP\\anaconda3\\lib\\site-packages\\sklearn\\linear_model\\logistic.py:432: FutureWarning: Default solver will be changed to 'lbfgs' in 0.22. Specify a solver to silence this warning.\n",
      "  FutureWarning)\n",
      "C:\\Users\\HP\\anaconda3\\lib\\site-packages\\sklearn\\linear_model\\logistic.py:469: FutureWarning: Default multi_class will be changed to 'auto' in 0.22. Specify the multi_class option to silence this warning.\n",
      "  \"this warning.\", FutureWarning)\n"
     ]
    },
    {
     "data": {
      "text/plain": [
       "LogisticRegression(C=1.0, class_weight=None, dual=False, fit_intercept=True,\n",
       "                   intercept_scaling=1, l1_ratio=None, max_iter=100,\n",
       "                   multi_class='warn', n_jobs=None, penalty='l2',\n",
       "                   random_state=None, solver='warn', tol=0.0001, verbose=0,\n",
       "                   warm_start=False)"
      ]
     },
     "execution_count": 124,
     "metadata": {},
     "output_type": "execute_result"
    }
   ],
   "source": [
    "# Fitting the model\n",
    "Lo_model.fit(X_train,y_train)"
   ]
  },
  {
   "cell_type": "code",
   "execution_count": 126,
   "metadata": {},
   "outputs": [
    {
     "name": "stdout",
     "output_type": "stream",
     "text": [
      "Accuracy: 0.9310344827586207\n"
     ]
    }
   ],
   "source": [
    "# Make predictions\n",
    "y_pred = Lo_model.predict(X_test)\n",
    "\n",
    "# Evaluate the model\n",
    "accuracy = accuracy_score(y_test, y_pred)\n",
    "conf_matrix = confusion_matrix(y_test, y_pred)\n",
    "class_report = classification_report(y_test, y_pred)\n",
    "\n",
    "# Output the results\n",
    "\n",
    "print(f\"Accuracy: {accuracy}\")\n",
    "\n",
    "\n"
   ]
  },
  {
   "cell_type": "code",
   "execution_count": 127,
   "metadata": {},
   "outputs": [
    {
     "name": "stdout",
     "output_type": "stream",
     "text": [
      " Score for Logistic regresion training data 0.9649122807017544\n",
      " Score for Logistic regresion testing data 0.9310344827586207\n",
      "*******************************************************\n",
      "Training Data Mean Squared Error (MSE): (MSE: 0.03508771929824561\n",
      "Testing Data Mean Squared Error(MSE): 0.06896551724137931\n",
      "*******************************************************\n",
      "Mean Absolute Error (MAE) - Train: 0.03508771929824561\n",
      "Mean Absolute Error (MAE) - Test: 0.06896551724137931\n"
     ]
    },
    {
     "name": "stderr",
     "output_type": "stream",
     "text": [
      "C:\\Users\\HP\\anaconda3\\lib\\site-packages\\sklearn\\linear_model\\logistic.py:432: FutureWarning: Default solver will be changed to 'lbfgs' in 0.22. Specify a solver to silence this warning.\n",
      "  FutureWarning)\n",
      "C:\\Users\\HP\\anaconda3\\lib\\site-packages\\sklearn\\linear_model\\logistic.py:469: FutureWarning: Default multi_class will be changed to 'auto' in 0.22. Specify the multi_class option to silence this warning.\n",
      "  \"this warning.\", FutureWarning)\n"
     ]
    }
   ],
   "source": [
    "\n",
    "# Creating the model\n",
    "vanillamodel = LogisticRegression()\n",
    "vanillamodel.fit(X_train,y_train)\n",
    "\n",
    "\n",
    "# Print R2 and MSE for training and test sets\n",
    "# # 3. Predict the target variable for both the training and test data\n",
    "print(f\" Score for Logistic regresion training data {vanillamodel.score(X_train,y_train)}\" )\n",
    "print(f\" Score for Logistic regresion testing data {vanillamodel.score(X_test,y_test)}\" )\n",
    "\n",
    "print('*******************************************************')\n",
    "\n",
    "# # Compute  MSE for the test data\n",
    "y_train_pred = vanillamodel.predict(X_train)\n",
    "y_test_pred = vanillamodel.predict(X_test)\n",
    "\n",
    "# Calculate metrics\n",
    "mae_train = mean_absolute_error(y_train, y_train_pred)\n",
    "mae_test = mean_absolute_error(y_test, y_test_pred)\n",
    "\n",
    "train_mse = mean_squared_error(y_train,y_train_pred)\n",
    "test_mse = mean_squared_error(y_test,y_test_pred)\n",
    "\n",
    "# Printing MSE for the train data\n",
    "print(\"Training Data Mean Squared Error (MSE): (MSE:\", train_mse)\n",
    "\n",
    "# Printing MSE for the test data\n",
    "print(\"Testing Data Mean Squared Error(MSE):\", test_mse)\n",
    "\n",
    "print('*******************************************************')\n",
    "\n",
    "# Printing mae for train and test data\n",
    "print(\"Mean Absolute Error (MAE) - Train:\", mae_train)\n",
    "print(\"Mean Absolute Error (MAE) - Test:\", mae_test)"
   ]
  },
  {
   "cell_type": "markdown",
   "metadata": {},
   "source": [
    "## KNN Neighbours"
   ]
  },
  {
   "cell_type": "markdown",
   "metadata": {},
   "source": [
    "* 1.Apply PCA to the scaled data.\n",
    "* 2.Build and Fit the KMeans Model.\n",
    "* 3.Predict the Clusters.\n",
    "* 4.Plot the Scatter Plot Graph Using the PCA Data."
   ]
  },
  {
   "cell_type": "code",
   "execution_count": null,
   "metadata": {},
   "outputs": [],
   "source": []
  },
  {
   "cell_type": "code",
   "execution_count": 160,
   "metadata": {},
   "outputs": [
    {
     "data": {
      "text/html": [
       "<div>\n",
       "<style scoped>\n",
       "    .dataframe tbody tr th:only-of-type {\n",
       "        vertical-align: middle;\n",
       "    }\n",
       "\n",
       "    .dataframe tbody tr th {\n",
       "        vertical-align: top;\n",
       "    }\n",
       "\n",
       "    .dataframe thead th {\n",
       "        text-align: right;\n",
       "    }\n",
       "</style>\n",
       "<table border=\"1\" class=\"dataframe\">\n",
       "  <thead>\n",
       "    <tr style=\"text-align: right;\">\n",
       "      <th></th>\n",
       "      <th>sepal_length</th>\n",
       "      <th>sepal_width</th>\n",
       "      <th>petal_length</th>\n",
       "      <th>petal_width</th>\n",
       "      <th>species</th>\n",
       "    </tr>\n",
       "  </thead>\n",
       "  <tbody>\n",
       "    <tr>\n",
       "      <th>0</th>\n",
       "      <td>5.1</td>\n",
       "      <td>3.5</td>\n",
       "      <td>1.4</td>\n",
       "      <td>0.2</td>\n",
       "      <td>0</td>\n",
       "    </tr>\n",
       "    <tr>\n",
       "      <th>1</th>\n",
       "      <td>4.9</td>\n",
       "      <td>3.0</td>\n",
       "      <td>1.4</td>\n",
       "      <td>0.2</td>\n",
       "      <td>0</td>\n",
       "    </tr>\n",
       "    <tr>\n",
       "      <th>2</th>\n",
       "      <td>4.7</td>\n",
       "      <td>3.2</td>\n",
       "      <td>1.3</td>\n",
       "      <td>0.2</td>\n",
       "      <td>0</td>\n",
       "    </tr>\n",
       "    <tr>\n",
       "      <th>3</th>\n",
       "      <td>4.6</td>\n",
       "      <td>3.1</td>\n",
       "      <td>1.5</td>\n",
       "      <td>0.2</td>\n",
       "      <td>0</td>\n",
       "    </tr>\n",
       "    <tr>\n",
       "      <th>4</th>\n",
       "      <td>5.0</td>\n",
       "      <td>3.6</td>\n",
       "      <td>1.4</td>\n",
       "      <td>0.2</td>\n",
       "      <td>0</td>\n",
       "    </tr>\n",
       "    <tr>\n",
       "      <th>...</th>\n",
       "      <td>...</td>\n",
       "      <td>...</td>\n",
       "      <td>...</td>\n",
       "      <td>...</td>\n",
       "      <td>...</td>\n",
       "    </tr>\n",
       "    <tr>\n",
       "      <th>145</th>\n",
       "      <td>6.7</td>\n",
       "      <td>3.0</td>\n",
       "      <td>5.2</td>\n",
       "      <td>2.3</td>\n",
       "      <td>2</td>\n",
       "    </tr>\n",
       "    <tr>\n",
       "      <th>146</th>\n",
       "      <td>6.3</td>\n",
       "      <td>2.5</td>\n",
       "      <td>5.0</td>\n",
       "      <td>1.9</td>\n",
       "      <td>2</td>\n",
       "    </tr>\n",
       "    <tr>\n",
       "      <th>147</th>\n",
       "      <td>6.5</td>\n",
       "      <td>3.0</td>\n",
       "      <td>5.2</td>\n",
       "      <td>2.0</td>\n",
       "      <td>2</td>\n",
       "    </tr>\n",
       "    <tr>\n",
       "      <th>148</th>\n",
       "      <td>6.2</td>\n",
       "      <td>3.4</td>\n",
       "      <td>5.4</td>\n",
       "      <td>2.3</td>\n",
       "      <td>2</td>\n",
       "    </tr>\n",
       "    <tr>\n",
       "      <th>149</th>\n",
       "      <td>5.9</td>\n",
       "      <td>3.0</td>\n",
       "      <td>5.1</td>\n",
       "      <td>1.8</td>\n",
       "      <td>2</td>\n",
       "    </tr>\n",
       "  </tbody>\n",
       "</table>\n",
       "<p>143 rows × 5 columns</p>\n",
       "</div>"
      ],
      "text/plain": [
       "     sepal_length  sepal_width  petal_length  petal_width  species\n",
       "0             5.1          3.5           1.4          0.2        0\n",
       "1             4.9          3.0           1.4          0.2        0\n",
       "2             4.7          3.2           1.3          0.2        0\n",
       "3             4.6          3.1           1.5          0.2        0\n",
       "4             5.0          3.6           1.4          0.2        0\n",
       "..            ...          ...           ...          ...      ...\n",
       "145           6.7          3.0           5.2          2.3        2\n",
       "146           6.3          2.5           5.0          1.9        2\n",
       "147           6.5          3.0           5.2          2.0        2\n",
       "148           6.2          3.4           5.4          2.3        2\n",
       "149           5.9          3.0           5.1          1.8        2\n",
       "\n",
       "[143 rows x 5 columns]"
      ]
     },
     "execution_count": 160,
     "metadata": {},
     "output_type": "execute_result"
    }
   ],
   "source": [
    "df_cleaned"
   ]
  },
  {
   "cell_type": "markdown",
   "metadata": {},
   "source": [
    "## Normalize the data"
   ]
  },
  {
   "cell_type": "code",
   "execution_count": 202,
   "metadata": {},
   "outputs": [
    {
     "data": {
      "text/plain": [
       "array([[-0.92610339,  1.16307189, -1.39323729, -1.37089412, -1.2686564 ,\n",
       "        -1.27095997],\n",
       "       [-1.16645328, -0.09692266, -1.39323729, -1.37089412, -1.2686564 ,\n",
       "        -1.27095997],\n",
       "       [-1.40680316,  0.40707516, -1.45055401, -1.37089412, -1.2686564 ,\n",
       "        -1.27095997],\n",
       "       [-1.5269781 ,  0.15507625, -1.33592057, -1.37089412, -1.2686564 ,\n",
       "        -1.27095997],\n",
       "       [-1.04627834,  1.4150708 , -1.39323729, -1.37089412, -1.2686564 ,\n",
       "        -1.27095997],\n",
       "       [-0.56557857,  2.17106752, -1.22128712, -1.10489974, -1.2686564 ,\n",
       "        -1.27095997],\n",
       "       [-1.5269781 ,  0.91107298, -1.39323729, -1.23789693, -1.2686564 ,\n",
       "        -1.27095997],\n",
       "       [-1.04627834,  0.91107298, -1.33592057, -1.37089412, -1.2686564 ,\n",
       "        -1.27095997],\n",
       "       [-1.76732798, -0.34892157, -1.39323729, -1.37089412, -1.2686564 ,\n",
       "        -1.27095997],\n",
       "       [-1.16645328,  0.15507625, -1.33592057, -1.50389132, -1.2686564 ,\n",
       "        -1.27095997],\n",
       "       [-0.56557857,  1.66706971, -1.33592057, -1.37089412, -1.2686564 ,\n",
       "        -1.27095997],\n",
       "       [-1.28662822,  0.91107298, -1.27860384, -1.37089412, -1.2686564 ,\n",
       "        -1.27095997],\n",
       "       [-1.28662822, -0.09692266, -1.39323729, -1.50389132, -1.2686564 ,\n",
       "        -1.27095997],\n",
       "       [-1.88750293, -0.09692266, -1.56518746, -1.50389132, -1.2686564 ,\n",
       "        -1.27095997],\n",
       "       [-0.0848788 ,  2.42306643, -1.50787074, -1.37089412, -1.2686564 ,\n",
       "        -1.27095997],\n",
       "       [-0.56557857,  2.17106752, -1.45055401, -1.10489974, -1.2686564 ,\n",
       "        -1.27095997],\n",
       "       [-0.92610339,  1.16307189, -1.39323729, -1.23789693, -1.2686564 ,\n",
       "        -1.27095997],\n",
       "       [-0.20505375,  1.91906862, -1.22128712, -1.23789693, -1.2686564 ,\n",
       "        -1.27095997],\n",
       "       [-0.92610339,  1.91906862, -1.33592057, -1.23789693, -1.2686564 ,\n",
       "        -1.27095997],\n",
       "       [-0.56557857,  0.91107298, -1.22128712, -1.37089412, -1.2686564 ,\n",
       "        -1.27095997],\n",
       "       [-0.92610339,  1.66706971, -1.33592057, -1.10489974, -1.2686564 ,\n",
       "        -1.27095997],\n",
       "       [-1.5269781 ,  1.4150708 , -1.62250419, -1.37089412, -1.2686564 ,\n",
       "        -1.27095997],\n",
       "       [-0.92610339,  0.65907407, -1.22128712, -0.97190255, -1.2686564 ,\n",
       "        -1.27095997],\n",
       "       [-1.28662822,  0.91107298, -1.10665367, -1.37089412, -1.2686564 ,\n",
       "        -1.27095997],\n",
       "       [-1.04627834, -0.09692266, -1.27860384, -1.37089412, -1.2686564 ,\n",
       "        -1.27095997],\n",
       "       [-1.04627834,  0.91107298, -1.27860384, -1.10489974, -1.2686564 ,\n",
       "        -1.27095997],\n",
       "       [-0.80592845,  1.16307189, -1.33592057, -1.37089412, -1.2686564 ,\n",
       "        -1.27095997],\n",
       "       [-0.80592845,  0.91107298, -1.39323729, -1.37089412, -1.2686564 ,\n",
       "        -1.27095997],\n",
       "       [-1.40680316,  0.40707516, -1.27860384, -1.37089412, -1.2686564 ,\n",
       "        -1.27095997],\n",
       "       [-1.28662822,  0.15507625, -1.27860384, -1.37089412, -1.2686564 ,\n",
       "        -1.27095997],\n",
       "       [-0.56557857,  0.91107298, -1.33592057, -1.10489974, -1.2686564 ,\n",
       "        -1.27095997],\n",
       "       [-1.04627834,  0.40707516, -1.50787074, -1.37089412, -1.2686564 ,\n",
       "        -1.27095997],\n",
       "       [-0.44540363,  1.16307189, -1.45055401, -1.37089412, -1.2686564 ,\n",
       "        -1.27095997],\n",
       "       [-1.76732798, -0.09692266, -1.45055401, -1.37089412, -1.2686564 ,\n",
       "        -1.27095997],\n",
       "       [-0.92610339,  0.91107298, -1.33592057, -1.37089412, -1.2686564 ,\n",
       "        -1.27095997],\n",
       "       [-1.04627834,  1.16307189, -1.45055401, -1.23789693, -1.2686564 ,\n",
       "        -1.27095997],\n",
       "       [-1.64715304, -1.86091502, -1.45055401, -1.23789693, -1.2686564 ,\n",
       "        -1.27095997],\n",
       "       [-1.76732798,  0.40707516, -1.45055401, -1.37089412, -1.2686564 ,\n",
       "        -1.27095997],\n",
       "       [-1.04627834,  1.16307189, -1.27860384, -0.83890536, -1.2686564 ,\n",
       "        -1.27095997],\n",
       "       [-0.92610339,  1.91906862, -1.10665367, -1.10489974, -1.2686564 ,\n",
       "        -1.27095997],\n",
       "       [-1.28662822, -0.09692266, -1.39323729, -1.23789693, -1.2686564 ,\n",
       "        -1.27095997],\n",
       "       [-0.92610339,  1.91906862, -1.27860384, -1.37089412, -1.2686564 ,\n",
       "        -1.27095997],\n",
       "       [-1.5269781 ,  0.40707516, -1.39323729, -1.37089412, -1.2686564 ,\n",
       "        -1.27095997],\n",
       "       [-0.68575351,  1.66706971, -1.33592057, -1.37089412, -1.2686564 ,\n",
       "        -1.27095997],\n",
       "       [-1.04627834,  0.65907407, -1.39323729, -1.37089412, -1.2686564 ,\n",
       "        -1.27095997],\n",
       "       [ 1.35722049,  0.40707516,  0.4982146 ,  0.22507217, -0.03452126,\n",
       "         1.18508429],\n",
       "       [ 0.63617084,  0.40707516,  0.38358115,  0.35806936, -0.03452126,\n",
       "         1.18508429],\n",
       "       [ 1.23704555,  0.15507625,  0.61284805,  0.35806936, -0.03452126,\n",
       "         1.18508429],\n",
       "       [-0.44540363, -1.86091502,  0.09699753,  0.09207498, -0.03452126,\n",
       "         1.18508429],\n",
       "       [ 0.75634578, -0.60092048,  0.44089788,  0.35806936, -0.03452126,\n",
       "         1.18508429],\n",
       "       [-0.20505375, -0.60092048,  0.38358115,  0.09207498, -0.03452126,\n",
       "         1.18508429],\n",
       "       [ 0.5159959 ,  0.65907407,  0.4982146 ,  0.49106655, -0.03452126,\n",
       "         1.18508429],\n",
       "       [-1.16645328, -1.60891611, -0.30421954, -0.3069166 , -0.03452126,\n",
       "         1.18508429],\n",
       "       [ 0.87652073, -0.34892157,  0.44089788,  0.09207498, -0.03452126,\n",
       "         1.18508429],\n",
       "       [-0.80592845, -0.85291938,  0.03968081,  0.22507217, -0.03452126,\n",
       "         1.18508429],\n",
       "       [ 0.03529614, -0.09692266,  0.21163098,  0.35806936, -0.03452126,\n",
       "         1.18508429],\n",
       "       [ 0.15547108, -2.11291393,  0.09699753, -0.3069166 , -0.03452126,\n",
       "         1.18508429],\n",
       "       [ 0.27564602, -0.34892157,  0.4982146 ,  0.22507217, -0.03452126,\n",
       "         1.18508429],\n",
       "       [-0.32522869, -0.34892157, -0.13226936,  0.09207498, -0.03452126,\n",
       "         1.18508429],\n",
       "       [ 0.99669567,  0.15507625,  0.32626443,  0.22507217, -0.03452126,\n",
       "         1.18508429],\n",
       "       [-0.32522869, -0.09692266,  0.38358115,  0.35806936, -0.03452126,\n",
       "         1.18508429],\n",
       "       [-0.0848788 , -0.85291938,  0.15431426, -0.3069166 , -0.03452126,\n",
       "         1.18508429],\n",
       "       [ 0.39582096, -2.11291393,  0.38358115,  0.35806936, -0.03452126,\n",
       "         1.18508429],\n",
       "       [-0.32522869, -1.3569172 ,  0.03968081, -0.1739194 , -0.03452126,\n",
       "         1.18508429],\n",
       "       [ 0.03529614,  0.40707516,  0.55553132,  0.75706093, -0.03452126,\n",
       "         1.18508429],\n",
       "       [ 0.27564602, -0.60092048,  0.09699753,  0.09207498, -0.03452126,\n",
       "         1.18508429],\n",
       "       [ 0.5159959 , -1.3569172 ,  0.61284805,  0.35806936, -0.03452126,\n",
       "         1.18508429],\n",
       "       [ 0.27564602, -0.60092048,  0.4982146 , -0.04092221, -0.03452126,\n",
       "         1.18508429],\n",
       "       [ 0.63617084, -0.34892157,  0.2689477 ,  0.09207498, -0.03452126,\n",
       "         1.18508429],\n",
       "       [ 0.87652073, -0.09692266,  0.32626443,  0.22507217, -0.03452126,\n",
       "         1.18508429],\n",
       "       [ 1.11687061, -0.60092048,  0.55553132,  0.22507217, -0.03452126,\n",
       "         1.18508429],\n",
       "       [ 0.99669567, -0.09692266,  0.67016477,  0.62406374, -0.03452126,\n",
       "         1.18508429],\n",
       "       [ 0.15547108, -0.34892157,  0.38358115,  0.35806936, -0.03452126,\n",
       "         1.18508429],\n",
       "       [-0.20505375, -1.10491829, -0.18958609, -0.3069166 , -0.03452126,\n",
       "         1.18508429],\n",
       "       [-0.44540363, -1.60891611, -0.01763592, -0.1739194 , -0.03452126,\n",
       "         1.18508429],\n",
       "       [-0.44540363, -1.60891611, -0.07495264, -0.3069166 , -0.03452126,\n",
       "         1.18508429],\n",
       "       [-0.0848788 , -0.85291938,  0.03968081, -0.04092221, -0.03452126,\n",
       "         1.18508429],\n",
       "       [ 0.15547108, -0.85291938,  0.7274815 ,  0.49106655, -0.03452126,\n",
       "         1.18508429],\n",
       "       [-0.56557857, -0.09692266,  0.38358115,  0.35806936, -0.03452126,\n",
       "         1.18508429],\n",
       "       [ 0.15547108,  0.91107298,  0.38358115,  0.49106655, -0.03452126,\n",
       "         1.18508429],\n",
       "       [ 0.99669567,  0.15507625,  0.4982146 ,  0.35806936, -0.03452126,\n",
       "         1.18508429],\n",
       "       [ 0.5159959 , -1.86091502,  0.32626443,  0.09207498, -0.03452126,\n",
       "         1.18508429],\n",
       "       [-0.32522869, -0.09692266,  0.15431426,  0.09207498, -0.03452126,\n",
       "         1.18508429],\n",
       "       [-0.44540363, -1.3569172 ,  0.09699753,  0.09207498, -0.03452126,\n",
       "         1.18508429],\n",
       "       [-0.44540363, -1.10491829,  0.32626443, -0.04092221, -0.03452126,\n",
       "         1.18508429],\n",
       "       [ 0.27564602, -0.09692266,  0.44089788,  0.22507217, -0.03452126,\n",
       "         1.18508429],\n",
       "       [-0.0848788 , -1.10491829,  0.09699753, -0.04092221, -0.03452126,\n",
       "         1.18508429],\n",
       "       [-1.04627834, -1.86091502, -0.30421954, -0.3069166 , -0.03452126,\n",
       "         1.18508429],\n",
       "       [-0.32522869, -0.85291938,  0.21163098,  0.09207498, -0.03452126,\n",
       "         1.18508429],\n",
       "       [-0.20505375, -0.09692266,  0.21163098, -0.04092221, -0.03452126,\n",
       "         1.18508429],\n",
       "       [-0.20505375, -0.34892157,  0.21163098,  0.09207498, -0.03452126,\n",
       "         1.18508429],\n",
       "       [ 0.39582096, -0.34892157,  0.2689477 ,  0.09207498, -0.03452126,\n",
       "         1.18508429],\n",
       "       [-0.92610339, -1.3569172 , -0.47616971, -0.1739194 , -0.03452126,\n",
       "         1.18508429],\n",
       "       [-0.20505375, -0.60092048,  0.15431426,  0.09207498, -0.03452126,\n",
       "         1.18508429],\n",
       "       [ 0.5159959 ,  0.65907407,  1.24333201,  1.68804127,  1.19961387,\n",
       "        -0.04293784],\n",
       "       [-0.0848788 , -0.85291938,  0.7274815 ,  0.89005813,  1.19961387,\n",
       "        -0.04293784],\n",
       "       [ 1.47739543, -0.09692266,  1.18601529,  1.15605251,  1.19961387,\n",
       "        -0.04293784],\n",
       "       [ 0.5159959 , -0.34892157,  1.01406512,  0.75706093,  1.19961387,\n",
       "        -0.04293784],\n",
       "       [ 0.75634578, -0.09692266,  1.12869856,  1.2890497 ,  1.19961387,\n",
       "        -0.04293784],\n",
       "       [ 2.07827014, -0.09692266,  1.58723236,  1.15605251,  1.19961387,\n",
       "        -0.04293784],\n",
       "       [-1.16645328, -1.3569172 ,  0.38358115,  0.62406374,  1.19961387,\n",
       "         1.18508429],\n",
       "       [ 1.71774532, -0.34892157,  1.41528218,  0.75706093,  1.19961387,\n",
       "        -0.04293784],\n",
       "       [ 0.99669567, -1.3569172 ,  1.12869856,  0.75706093,  1.19961387,\n",
       "        -0.04293784],\n",
       "       [ 1.59757037,  1.4150708 ,  1.30064874,  1.68804127,  1.19961387,\n",
       "        -0.04293784],\n",
       "       [ 0.75634578,  0.40707516,  0.7274815 ,  1.02305532,  1.19961387,\n",
       "        -0.04293784],\n",
       "       [ 0.63617084, -0.85291938,  0.84211494,  0.89005813,  1.19961387,\n",
       "        -0.04293784],\n",
       "       [ 1.11687061, -0.09692266,  0.95674839,  1.15605251,  1.19961387,\n",
       "        -0.04293784],\n",
       "       [-0.20505375, -1.3569172 ,  0.67016477,  1.02305532,  1.19961387,\n",
       "        -0.04293784],\n",
       "       [-0.0848788 , -0.60092048,  0.7274815 ,  1.55504408,  1.19961387,\n",
       "        -0.04293784],\n",
       "       [ 0.63617084,  0.40707516,  0.84211494,  1.42204689,  1.19961387,\n",
       "        -0.04293784],\n",
       "       [ 0.75634578, -0.09692266,  0.95674839,  0.75706093,  1.19961387,\n",
       "        -0.04293784],\n",
       "       [ 2.19844508,  1.91906862,  1.64454908,  1.2890497 ,  1.19961387,\n",
       "        -0.04293784],\n",
       "       [ 2.19844508, -1.10491829,  1.75918253,  1.42204689,  1.19961387,\n",
       "        -0.04293784],\n",
       "       [ 0.15547108, -2.11291393,  0.67016477,  0.35806936,  1.19961387,\n",
       "        -0.04293784],\n",
       "       [ 1.23704555,  0.40707516,  1.07138184,  1.42204689,  1.19961387,\n",
       "        -0.04293784],\n",
       "       [-0.32522869, -0.60092048,  0.61284805,  1.02305532,  1.19961387,\n",
       "        -0.04293784],\n",
       "       [ 2.19844508, -0.60092048,  1.64454908,  1.02305532,  1.19961387,\n",
       "        -0.04293784],\n",
       "       [ 0.5159959 , -0.85291938,  0.61284805,  0.75706093,  1.19961387,\n",
       "        -0.04293784],\n",
       "       [ 0.99669567,  0.65907407,  1.07138184,  1.15605251,  1.19961387,\n",
       "        -0.04293784],\n",
       "       [ 1.59757037,  0.40707516,  1.24333201,  0.75706093,  1.19961387,\n",
       "        -0.04293784],\n",
       "       [ 0.39582096, -0.60092048,  0.55553132,  0.75706093,  1.19961387,\n",
       "        -0.04293784],\n",
       "       [ 0.27564602, -0.09692266,  0.61284805,  0.75706093,  1.19961387,\n",
       "        -0.04293784],\n",
       "       [ 0.63617084, -0.60092048,  1.01406512,  1.15605251,  1.19961387,\n",
       "        -0.04293784],\n",
       "       [ 1.59757037, -0.09692266,  1.12869856,  0.49106655,  1.19961387,\n",
       "        -0.04293784],\n",
       "       [ 1.83792026, -0.60092048,  1.30064874,  0.89005813,  1.19961387,\n",
       "        -0.04293784],\n",
       "       [ 2.43879496,  1.91906862,  1.47259891,  1.02305532,  1.19961387,\n",
       "        -0.04293784],\n",
       "       [ 0.63617084, -0.60092048,  1.01406512,  1.2890497 ,  1.19961387,\n",
       "        -0.04293784],\n",
       "       [ 0.5159959 , -0.60092048,  0.7274815 ,  0.35806936,  1.19961387,\n",
       "        -0.04293784],\n",
       "       [ 0.27564602, -1.10491829,  1.01406512,  0.22507217,  1.19961387,\n",
       "        -0.04293784],\n",
       "       [ 2.19844508, -0.09692266,  1.30064874,  1.42204689,  1.19961387,\n",
       "        -0.04293784],\n",
       "       [ 0.5159959 ,  0.91107298,  1.01406512,  1.55504408,  1.19961387,\n",
       "        -0.04293784],\n",
       "       [ 0.63617084,  0.15507625,  0.95674839,  0.75706093,  1.19961387,\n",
       "        -0.04293784],\n",
       "       [ 0.15547108, -0.09692266,  0.55553132,  0.75706093,  1.19961387,\n",
       "        -0.04293784],\n",
       "       [ 1.23704555,  0.15507625,  0.89943167,  1.15605251,  1.19961387,\n",
       "        -0.04293784],\n",
       "       [ 0.99669567,  0.15507625,  1.01406512,  1.55504408,  1.19961387,\n",
       "        -0.04293784],\n",
       "       [ 1.23704555,  0.15507625,  0.7274815 ,  1.42204689,  1.19961387,\n",
       "        -0.04293784],\n",
       "       [ 1.11687061,  0.40707516,  1.18601529,  1.42204689,  1.19961387,\n",
       "        -0.04293784],\n",
       "       [ 0.99669567,  0.65907407,  1.07138184,  1.68804127,  1.19961387,\n",
       "        -0.04293784],\n",
       "       [ 0.99669567, -0.09692266,  0.78479822,  1.42204689,  1.19961387,\n",
       "        -0.04293784],\n",
       "       [ 0.5159959 , -1.3569172 ,  0.67016477,  0.89005813,  1.19961387,\n",
       "        -0.04293784],\n",
       "       [ 0.75634578, -0.09692266,  0.78479822,  1.02305532,  1.19961387,\n",
       "        -0.04293784],\n",
       "       [ 0.39582096,  0.91107298,  0.89943167,  1.42204689,  1.19961387,\n",
       "        -0.04293784],\n",
       "       [ 0.03529614, -0.09692266,  0.7274815 ,  0.75706093,  1.19961387,\n",
       "        -0.04293784]])"
      ]
     },
     "execution_count": 202,
     "metadata": {},
     "output_type": "execute_result"
    }
   ],
   "source": [
    "#initialize scaler\n",
    "scale = StandardScaler()\n",
    "\n",
    "#fit the scaled data\n",
    "scaled_data =scale.fit_transform(df_cleaned)\n",
    "scaled_data"
   ]
  },
  {
   "cell_type": "markdown",
   "metadata": {},
   "source": [
    "   # Introducing PCA"
   ]
  },
  {
   "cell_type": "code",
   "execution_count": 203,
   "metadata": {},
   "outputs": [
    {
     "data": {
      "text/plain": [
       "array([[ 2.98189818,  0.58794891],\n",
       "       [ 2.7790932 , -0.45197129],\n",
       "       [ 3.02669739, -0.16522544],\n",
       "       [ 2.96107153, -0.38709737],\n",
       "       [ 3.09198488,  0.73443855],\n",
       "       [ 2.8688318 ,  1.54497799],\n",
       "       [ 3.10803263,  0.20036096],\n",
       "       [ 2.94370312,  0.35984355],\n",
       "       [ 2.96697379, -0.86200836],\n",
       "       [ 2.87383403, -0.27777277],\n",
       "       [ 2.92633471,  1.10678447],\n",
       "       [ 3.01559475,  0.27822783],\n",
       "       [ 2.89050056, -0.51834498],\n",
       "       [ 3.22109901, -0.75666812],\n",
       "       [ 2.99125869,  1.83502512],\n",
       "       [ 2.97855498,  1.52004428],\n",
       "       [ 2.92015204,  0.61039803],\n",
       "       [ 2.72116882,  1.46388837],\n",
       "       [ 3.07399769,  1.18787409],\n",
       "       [ 2.69019668,  0.54800869],\n",
       "       [ 2.95182607,  1.019909  ],\n",
       "       [ 3.40035291,  0.53380655],\n",
       "       [ 2.59351641,  0.29316812],\n",
       "       [ 2.93330237,  0.29692811],\n",
       "       [ 2.6745704 , -0.39557987],\n",
       "       [ 2.79278004,  0.41097522],\n",
       "       [ 2.90480618,  0.63810691],\n",
       "       [ 2.87181149,  0.44145927],\n",
       "       [ 2.944405  , -0.14652516],\n",
       "       [ 2.83431831, -0.2930148 ],\n",
       "       [ 2.62156599,  0.58044008],\n",
       "       [ 2.90514454, -0.03968515],\n",
       "       [ 2.81068413,  0.75741377],\n",
       "       [ 3.05483006, -0.67782758],\n",
       "       [ 2.89404191,  0.40376812],\n",
       "       [ 2.99724405,  0.56024003],\n",
       "       [ 2.52044434, -1.94435337],\n",
       "       [ 3.17568103, -0.29699916],\n",
       "       [ 2.72971324,  0.64628767],\n",
       "       [ 2.90252837,  1.23525691],\n",
       "       [ 2.76700827, -0.47344675],\n",
       "       [ 3.10831304,  1.1716584 ],\n",
       "       [ 3.0489278 , -0.20291659],\n",
       "       [ 2.97599593,  1.0628599 ],\n",
       "       [ 2.91070843,  0.16319591],\n",
       "       [-1.19857227,  0.31752297],\n",
       "       [-0.90748954,  0.0639578 ],\n",
       "       [-1.32594427,  0.11810015],\n",
       "       [-0.7437217 , -2.12115662],\n",
       "       [-1.22628347, -0.64754105],\n",
       "       [-0.67807069, -1.05006929],\n",
       "       [-0.91401058,  0.24536341],\n",
       "       [-0.00807495, -2.30527119],\n",
       "       [-1.09202692, -0.4581005 ],\n",
       "       [-0.38735148, -1.4750578 ],\n",
       "       [-0.69774205, -0.55519376],\n",
       "       [-0.86721482, -2.15929533],\n",
       "       [-0.93289779, -0.64904082],\n",
       "       [-0.32110684, -0.95968049],\n",
       "       [-1.02772172, -0.02336524],\n",
       "       [-0.6310508 , -0.6682672 ],\n",
       "       [-0.49319578, -1.28883999],\n",
       "       [-1.41242193, -1.92803346],\n",
       "       [-0.52160887, -1.74753529],\n",
       "       [-0.92671428, -0.06961742],\n",
       "       [-0.73956157, -0.90553813],\n",
       "       [-1.39052988, -1.28793255],\n",
       "       [-0.86983099, -0.88435327],\n",
       "       [-0.91041211, -0.56464993],\n",
       "       [-1.03848599, -0.25770403],\n",
       "       [-1.36838256, -0.5257496 ],\n",
       "       [-1.4379704 , -0.10903154],\n",
       "       [-0.89012113, -0.68298312],\n",
       "       [-0.33937528, -1.56057933],\n",
       "       [-0.50494235, -1.9881075 ],\n",
       "       [-0.41576541, -2.01679005],\n",
       "       [-0.56182648, -1.25640861],\n",
       "       [-1.237303  , -1.00396187],\n",
       "       [-0.53172837, -0.75611634],\n",
       "       [-0.64973986,  0.29153705],\n",
       "       [-1.17176025,  0.01778416],\n",
       "       [-1.25073458, -1.74482634],\n",
       "       [-0.39783534, -0.73809914],\n",
       "       [-0.62287074, -1.7403282 ],\n",
       "       [-0.61042229, -1.5474294 ],\n",
       "       [-0.84504152, -0.46486003],\n",
       "       [-0.64968275, -1.44058939],\n",
       "       [-0.11816165, -2.45176082],\n",
       "       [-0.60654258, -1.30310835],\n",
       "       [-0.4131812 , -0.71039026],\n",
       "       [-0.53535283, -0.87835536],\n",
       "       [-0.81108969, -0.65249907],\n",
       "       [-0.02642565, -2.02325899],\n",
       "       [-0.56834751, -1.07500299],\n",
       "       [-1.96695034,  1.30180877],\n",
       "       [-1.46384316, -0.25109491],\n",
       "       [-2.27110113,  0.98593281],\n",
       "       [-1.6667061 ,  0.35807438],\n",
       "       [-2.0074492 ,  0.73860107],\n",
       "       [-2.71142276,  1.24918965],\n",
       "       [-1.27261178, -1.70361375],\n",
       "       [-2.35533379,  0.84095409],\n",
       "       [-2.16191447, -0.21541732],\n",
       "       [-2.26005561,  2.27460598],\n",
       "       [-1.57109039,  1.03089727],\n",
       "       [-1.81667203,  0.02491937],\n",
       "       [-2.01239431,  0.82922539],\n",
       "       [-1.56934826, -0.65963221],\n",
       "       [-1.71214838,  0.0515649 ],\n",
       "       [-1.76152919,  1.06678691],\n",
       "       [-1.67817225,  0.63010431],\n",
       "       [-2.36685705,  2.84511046],\n",
       "       [-3.20857056,  0.5950559 ],\n",
       "       [-1.59087764, -1.21134673],\n",
       "       [-2.11955843,  1.31134347],\n",
       "       [-1.3109798 , -0.13854758],\n",
       "       [-2.84761959,  0.89607011],\n",
       "       [-1.5955415 , -0.06638802],\n",
       "       [-1.83631824,  1.3690103 ],\n",
       "       [-2.04210375,  1.34957187],\n",
       "       [-1.45802401,  0.07386819],\n",
       "       [-1.31494263,  0.41700547],\n",
       "       [-1.96203121,  0.2789321 ],\n",
       "       [-1.98460084,  0.91137836],\n",
       "       [-2.47230504,  0.70444672],\n",
       "       [-2.26039481,  2.86936109],\n",
       "       [-2.02377736,  0.30138122],\n",
       "       [-1.40473918,  0.06914568],\n",
       "       [-1.50167555, -0.39081387],\n",
       "       [-2.74742228,  1.30684533],\n",
       "       [-1.73505553,  1.44484016],\n",
       "       [-1.56808555,  0.77659395],\n",
       "       [-1.23785062,  0.36684747],\n",
       "       [-1.97419925,  1.05733074],\n",
       "       [-2.11497683,  1.04929581],\n",
       "       [-2.01539914,  1.0835287 ],\n",
       "       [-2.12475881,  1.27988575],\n",
       "       [-2.0833028 ,  1.45880678],\n",
       "       [-2.00393299,  0.81149877],\n",
       "       [-1.8055694 , -0.4185339 ],\n",
       "       [-1.71937214,  0.65630227],\n",
       "       [-1.56878659,  1.36599961],\n",
       "       [-1.27048179,  0.34162318]])"
      ]
     },
     "execution_count": 203,
     "metadata": {},
     "output_type": "execute_result"
    }
   ],
   "source": [
    "#apply PCA and specify number of components\n",
    "pca = PCA(n_components = 2)\n",
    "\n",
    "#fit pca\n",
    "pca.fit(scaled_data)\n",
    "\n",
    "#transfom pca\n",
    "new_df = pca.transform(scaled_data)\n",
    "new_df"
   ]
  },
  {
   "cell_type": "markdown",
   "metadata": {},
   "source": [
    "* PCA takes the the n_components with the hight amount of variance"
   ]
  },
  {
   "cell_type": "code",
   "execution_count": 204,
   "metadata": {},
   "outputs": [
    {
     "data": {
      "text/plain": [
       "array([0.70835291, 0.18825517])"
      ]
     },
     "execution_count": 204,
     "metadata": {},
     "output_type": "execute_result"
    }
   ],
   "source": [
    "# the two highest component variance in the data\n",
    "pca.explained_variance_ratio_"
   ]
  },
  {
   "cell_type": "markdown",
   "metadata": {},
   "source": [
    "# Baseline Model"
   ]
  },
  {
   "cell_type": "code",
   "execution_count": 223,
   "metadata": {},
   "outputs": [
    {
     "data": {
      "text/plain": [
       "array([1, 1, 1, 1, 1, 1, 1, 1, 1, 1, 1, 1, 1, 1, 1, 1, 1, 1, 1, 1, 1, 1,\n",
       "       1, 1, 1, 1, 1, 1, 1, 1, 1, 1, 1, 1, 1, 1, 1, 1, 1, 1, 1, 1, 1, 1,\n",
       "       1, 2, 2, 2, 0, 0, 0, 2, 0, 0, 0, 0, 0, 0, 0, 2, 0, 0, 0, 0, 0, 0,\n",
       "       0, 0, 0, 0, 0, 2, 0, 0, 0, 0, 0, 0, 0, 2, 2, 0, 0, 0, 0, 0, 0, 0,\n",
       "       0, 0, 0, 0, 0, 0, 2, 2, 2, 2, 2, 2, 0, 2, 2, 2, 2, 2, 2, 0, 2, 2,\n",
       "       2, 2, 2, 0, 2, 2, 2, 2, 2, 2, 2, 2, 2, 2, 2, 2, 2, 2, 0, 2, 2, 2,\n",
       "       2, 2, 2, 2, 2, 2, 2, 2, 2, 2, 2])"
      ]
     },
     "execution_count": 223,
     "metadata": {},
     "output_type": "execute_result"
    }
   ],
   "source": [
    "#build the model\n",
    "km = KMeans(n_clusters=3)\n",
    "\n",
    "#fit and predict the dataframe\n",
    "y_pred = km.fit_predict(new_df)\n",
    "\n",
    "# view the df\n",
    "y_pred"
   ]
  },
  {
   "cell_type": "markdown",
   "metadata": {},
   "source": [
    "## Adding the pca data to a df"
   ]
  },
  {
   "cell_type": "code",
   "execution_count": 225,
   "metadata": {},
   "outputs": [
    {
     "data": {
      "text/html": [
       "<div>\n",
       "<style scoped>\n",
       "    .dataframe tbody tr th:only-of-type {\n",
       "        vertical-align: middle;\n",
       "    }\n",
       "\n",
       "    .dataframe tbody tr th {\n",
       "        vertical-align: top;\n",
       "    }\n",
       "\n",
       "    .dataframe thead th {\n",
       "        text-align: right;\n",
       "    }\n",
       "</style>\n",
       "<table border=\"1\" class=\"dataframe\">\n",
       "  <thead>\n",
       "    <tr style=\"text-align: right;\">\n",
       "      <th></th>\n",
       "      <th>PC1</th>\n",
       "      <th>PC2</th>\n",
       "      <th>cluster</th>\n",
       "    </tr>\n",
       "  </thead>\n",
       "  <tbody>\n",
       "    <tr>\n",
       "      <th>0</th>\n",
       "      <td>2.981898</td>\n",
       "      <td>0.587949</td>\n",
       "      <td>1</td>\n",
       "    </tr>\n",
       "    <tr>\n",
       "      <th>1</th>\n",
       "      <td>2.779093</td>\n",
       "      <td>-0.451971</td>\n",
       "      <td>1</td>\n",
       "    </tr>\n",
       "    <tr>\n",
       "      <th>2</th>\n",
       "      <td>3.026697</td>\n",
       "      <td>-0.165225</td>\n",
       "      <td>1</td>\n",
       "    </tr>\n",
       "    <tr>\n",
       "      <th>3</th>\n",
       "      <td>2.961072</td>\n",
       "      <td>-0.387097</td>\n",
       "      <td>1</td>\n",
       "    </tr>\n",
       "    <tr>\n",
       "      <th>4</th>\n",
       "      <td>3.091985</td>\n",
       "      <td>0.734439</td>\n",
       "      <td>1</td>\n",
       "    </tr>\n",
       "    <tr>\n",
       "      <th>...</th>\n",
       "      <td>...</td>\n",
       "      <td>...</td>\n",
       "      <td>...</td>\n",
       "    </tr>\n",
       "    <tr>\n",
       "      <th>138</th>\n",
       "      <td>-2.003933</td>\n",
       "      <td>0.811499</td>\n",
       "      <td>2</td>\n",
       "    </tr>\n",
       "    <tr>\n",
       "      <th>139</th>\n",
       "      <td>-1.805569</td>\n",
       "      <td>-0.418534</td>\n",
       "      <td>2</td>\n",
       "    </tr>\n",
       "    <tr>\n",
       "      <th>140</th>\n",
       "      <td>-1.719372</td>\n",
       "      <td>0.656302</td>\n",
       "      <td>2</td>\n",
       "    </tr>\n",
       "    <tr>\n",
       "      <th>141</th>\n",
       "      <td>-1.568787</td>\n",
       "      <td>1.366000</td>\n",
       "      <td>2</td>\n",
       "    </tr>\n",
       "    <tr>\n",
       "      <th>142</th>\n",
       "      <td>-1.270482</td>\n",
       "      <td>0.341623</td>\n",
       "      <td>2</td>\n",
       "    </tr>\n",
       "  </tbody>\n",
       "</table>\n",
       "<p>143 rows × 3 columns</p>\n",
       "</div>"
      ],
      "text/plain": [
       "          PC1       PC2  cluster\n",
       "0    2.981898  0.587949        1\n",
       "1    2.779093 -0.451971        1\n",
       "2    3.026697 -0.165225        1\n",
       "3    2.961072 -0.387097        1\n",
       "4    3.091985  0.734439        1\n",
       "..        ...       ...      ...\n",
       "138 -2.003933  0.811499        2\n",
       "139 -1.805569 -0.418534        2\n",
       "140 -1.719372  0.656302        2\n",
       "141 -1.568787  1.366000        2\n",
       "142 -1.270482  0.341623        2\n",
       "\n",
       "[143 rows x 3 columns]"
      ]
     },
     "execution_count": 225,
     "metadata": {},
     "output_type": "execute_result"
    }
   ],
   "source": [
    "# Add the cluster labels to the PCA-transformed DataFrame\n",
    "pca_df = pd.DataFrame(new_df, columns=['PC1', 'PC2'])\n",
    "pca_df['cluster'] = y_pred\n",
    "pca_df"
   ]
  },
  {
   "cell_type": "markdown",
   "metadata": {},
   "source": [
    "## Plotting the scaterplot"
   ]
  },
  {
   "cell_type": "code",
   "execution_count": 227,
   "metadata": {},
   "outputs": [
    {
     "data": {
      "image/png": "[encoded data removed]",
      "text/plain": [
       "<Figure size 432x288 with 1 Axes>"
      ]
     },
     "metadata": {
      "needs_background": "light"
     },
     "output_type": "display_data"
    }
   ],
   "source": [
    "# Create subsets of the DataFrame based on cluster labels\n",
    "df1 = pca_df[pca_df['cluster'] == 0]\n",
    "df2 = pca_df[pca_df['cluster'] == 1]\n",
    "df3 = pca_df[pca_df['cluster'] == 2]\n",
    "\n",
    "# Plot the clusters\n",
    "plt.scatter(df1['PC1'], df1['PC2'], color='purple', label='Cluster 1')\n",
    "plt.scatter(df2['PC1'], df2['PC2'], color='red', label='Cluster 2')\n",
    "plt.scatter(df3['PC1'], df3['PC2'], color='blue', label='Cluster 3')\n",
    "\n",
    "# Plot the centroids\n",
    "centroids = km.cluster_centers_\n",
    "plt.scatter(centroids[:, 0], centroids[:, 1], s=100, color='black', marker='*', label='Centroids')\n",
    "\n",
    "plt.xlabel('Principal Component 1')\n",
    "plt.ylabel('Principal Component 2')\n",
    "plt.title('KMeans Clustering with PCA')\n",
    "plt.legend()\n",
    "plt.show()"
   ]
  },
  {
   "cell_type": "code",
   "execution_count": null,
   "metadata": {},
   "outputs": [],
   "source": []
  },
  {
   "cell_type": "markdown",
   "metadata": {},
   "source": [
    "##  Silhoutte Score"
   ]
  },
  {
   "cell_type": "code",
   "execution_count": 220,
   "metadata": {},
   "outputs": [
    {
     "name": "stdout",
     "output_type": "stream",
     "text": [
      "Silhouette Score: 0.48849579868779724\n"
     ]
    }
   ],
   "source": [
    "from sklearn.metrics import silhouette_score\n",
    "\n",
    "silhouette_avg = silhouette_score(new_df,y_pred)\n",
    "print(\"Silhouette Score:\", silhouette_avg)"
   ]
  },
  {
   "cell_type": "markdown",
   "metadata": {},
   "source": [
    "* Measure of similarity in between the clusters"
   ]
  },
  {
   "cell_type": "code",
   "execution_count": null,
   "metadata": {},
   "outputs": [],
   "source": []
  },
  {
   "cell_type": "code",
   "execution_count": null,
   "metadata": {},
   "outputs": [],
   "source": []
  },
  {
   "cell_type": "code",
   "execution_count": null,
   "metadata": {},
   "outputs": [],
   "source": []
  },
  {
   "cell_type": "code",
   "execution_count": null,
   "metadata": {},
   "outputs": [],
   "source": []
  },
  {
   "cell_type": "code",
   "execution_count": null,
   "metadata": {},
   "outputs": [],
   "source": []
  },
  {
   "cell_type": "markdown",
   "metadata": {},
   "source": [
    "## Defing the Kmeans Model"
   ]
  },
  {
   "cell_type": "code",
   "execution_count": 179,
   "metadata": {},
   "outputs": [],
   "source": [
    "# Finding the optimam K value :Within cluster Sum of Squares\n",
    "\n",
    "wcss = []\n",
    "for k in range(1,13):\n",
    "    k_means = KMeans(n_clusters=k)\n",
    "    k_means.fit(df_cleaned)\n",
    "    wcss.append(k_means.inertia_)"
   ]
  },
  {
   "cell_type": "markdown",
   "metadata": {},
   "source": [
    "## Plotting the Elbow curve"
   ]
  },
  {
   "cell_type": "code",
   "execution_count": 180,
   "metadata": {},
   "outputs": [
    {
     "data": {
      "text/plain": [
       "[<matplotlib.lines.Line2D at 0xecc0fd0>]"
      ]
     },
     "execution_count": 180,
     "metadata": {},
     "output_type": "execute_result"
    },
    {
     "data": {
      "image/png": "[encoded data removed]",
      "text/plain": [
       "<Figure size 432x288 with 1 Axes>"
      ]
     },
     "metadata": {
      "needs_background": "light"
     },
     "output_type": "display_data"
    }
   ],
   "source": [
    "plt.xlabel('K')\n",
    "plt.ylabel('Sum of Square Errors')\n",
    "plt.plot(range(1,13),wcss)"
   ]
  },
  {
   "cell_type": "markdown",
   "metadata": {},
   "source": [
    "* Optimum K value = 3"
   ]
  },
  {
   "cell_type": "code",
   "execution_count": 181,
   "metadata": {},
   "outputs": [
    {
     "data": {
      "text/plain": [
       "array([1, 1, 1, 1, 1, 1, 1, 1, 1, 1, 1, 1, 1, 1, 1, 1, 1, 1, 1, 1, 1, 1,\n",
       "       1, 1, 1, 1, 1, 1, 1, 1, 1, 1, 1, 1, 1, 1, 1, 1, 1, 1, 1, 1, 1, 1,\n",
       "       1, 2, 2, 2, 2, 2, 2, 2, 2, 2, 2, 2, 2, 2, 2, 2, 2, 2, 2, 2, 2, 2,\n",
       "       2, 2, 2, 2, 2, 2, 2, 2, 2, 2, 2, 2, 2, 2, 2, 2, 2, 2, 2, 2, 2, 2,\n",
       "       2, 2, 2, 2, 2, 2, 0, 0, 0, 0, 0, 0, 2, 0, 0, 0, 0, 0, 0, 0, 0, 0,\n",
       "       0, 0, 0, 0, 0, 0, 0, 0, 0, 0, 0, 0, 0, 0, 0, 0, 0, 0, 0, 0, 0, 0,\n",
       "       0, 0, 0, 0, 0, 0, 0, 0, 0, 0, 0])"
      ]
     },
     "execution_count": 181,
     "metadata": {},
     "output_type": "execute_result"
    }
   ],
   "source": [
    "km = KMeans(n_clusters=3)\n",
    "\n",
    "y_pred = km.fit_predict(df_cleaned)\n",
    "y_pred"
   ]
  },
  {
   "cell_type": "markdown",
   "metadata": {},
   "source": [
    "## Scale the data"
   ]
  },
  {
   "cell_type": "code",
   "execution_count": 194,
   "metadata": {},
   "outputs": [],
   "source": [
    "scaler = MinMaxScaler()\n",
    "df_cleaned[['sepal_length', 'sepal_width', 'petal_length', 'petal_width']] = scaler.fit_transform(df_cleaned[['sepal_length', 'sepal_width', 'petal_length', 'petal_width']])"
   ]
  },
  {
   "cell_type": "markdown",
   "metadata": {},
   "source": [
    "## Visualizing the Values"
   ]
  },
  {
   "cell_type": "code",
   "execution_count": 195,
   "metadata": {},
   "outputs": [
    {
     "data": {
      "text/html": [
       "<div>\n",
       "<style scoped>\n",
       "    .dataframe tbody tr th:only-of-type {\n",
       "        vertical-align: middle;\n",
       "    }\n",
       "\n",
       "    .dataframe tbody tr th {\n",
       "        vertical-align: top;\n",
       "    }\n",
       "\n",
       "    .dataframe thead th {\n",
       "        text-align: right;\n",
       "    }\n",
       "</style>\n",
       "<table border=\"1\" class=\"dataframe\">\n",
       "  <thead>\n",
       "    <tr style=\"text-align: right;\">\n",
       "      <th></th>\n",
       "      <th>sepal_length</th>\n",
       "      <th>sepal_width</th>\n",
       "      <th>petal_length</th>\n",
       "      <th>petal_width</th>\n",
       "      <th>species</th>\n",
       "      <th>cluster</th>\n",
       "    </tr>\n",
       "  </thead>\n",
       "  <tbody>\n",
       "    <tr>\n",
       "      <th>0</th>\n",
       "      <td>0.222222</td>\n",
       "      <td>0.722222</td>\n",
       "      <td>0.067797</td>\n",
       "      <td>0.041667</td>\n",
       "      <td>0</td>\n",
       "      <td>1</td>\n",
       "    </tr>\n",
       "    <tr>\n",
       "      <th>1</th>\n",
       "      <td>0.166667</td>\n",
       "      <td>0.444444</td>\n",
       "      <td>0.067797</td>\n",
       "      <td>0.041667</td>\n",
       "      <td>0</td>\n",
       "      <td>1</td>\n",
       "    </tr>\n",
       "    <tr>\n",
       "      <th>2</th>\n",
       "      <td>0.111111</td>\n",
       "      <td>0.555556</td>\n",
       "      <td>0.050847</td>\n",
       "      <td>0.041667</td>\n",
       "      <td>0</td>\n",
       "      <td>1</td>\n",
       "    </tr>\n",
       "    <tr>\n",
       "      <th>3</th>\n",
       "      <td>0.083333</td>\n",
       "      <td>0.500000</td>\n",
       "      <td>0.084746</td>\n",
       "      <td>0.041667</td>\n",
       "      <td>0</td>\n",
       "      <td>1</td>\n",
       "    </tr>\n",
       "    <tr>\n",
       "      <th>4</th>\n",
       "      <td>0.194444</td>\n",
       "      <td>0.777778</td>\n",
       "      <td>0.067797</td>\n",
       "      <td>0.041667</td>\n",
       "      <td>0</td>\n",
       "      <td>1</td>\n",
       "    </tr>\n",
       "    <tr>\n",
       "      <th>...</th>\n",
       "      <td>...</td>\n",
       "      <td>...</td>\n",
       "      <td>...</td>\n",
       "      <td>...</td>\n",
       "      <td>...</td>\n",
       "      <td>...</td>\n",
       "    </tr>\n",
       "    <tr>\n",
       "      <th>145</th>\n",
       "      <td>0.666667</td>\n",
       "      <td>0.444444</td>\n",
       "      <td>0.711864</td>\n",
       "      <td>0.916667</td>\n",
       "      <td>2</td>\n",
       "      <td>0</td>\n",
       "    </tr>\n",
       "    <tr>\n",
       "      <th>146</th>\n",
       "      <td>0.555556</td>\n",
       "      <td>0.166667</td>\n",
       "      <td>0.677966</td>\n",
       "      <td>0.750000</td>\n",
       "      <td>2</td>\n",
       "      <td>0</td>\n",
       "    </tr>\n",
       "    <tr>\n",
       "      <th>147</th>\n",
       "      <td>0.611111</td>\n",
       "      <td>0.444444</td>\n",
       "      <td>0.711864</td>\n",
       "      <td>0.791667</td>\n",
       "      <td>2</td>\n",
       "      <td>0</td>\n",
       "    </tr>\n",
       "    <tr>\n",
       "      <th>148</th>\n",
       "      <td>0.527778</td>\n",
       "      <td>0.666667</td>\n",
       "      <td>0.745763</td>\n",
       "      <td>0.916667</td>\n",
       "      <td>2</td>\n",
       "      <td>0</td>\n",
       "    </tr>\n",
       "    <tr>\n",
       "      <th>149</th>\n",
       "      <td>0.444444</td>\n",
       "      <td>0.444444</td>\n",
       "      <td>0.694915</td>\n",
       "      <td>0.708333</td>\n",
       "      <td>2</td>\n",
       "      <td>0</td>\n",
       "    </tr>\n",
       "  </tbody>\n",
       "</table>\n",
       "<p>143 rows × 6 columns</p>\n",
       "</div>"
      ],
      "text/plain": [
       "     sepal_length  sepal_width  petal_length  petal_width  species  cluster\n",
       "0        0.222222     0.722222      0.067797     0.041667        0        1\n",
       "1        0.166667     0.444444      0.067797     0.041667        0        1\n",
       "2        0.111111     0.555556      0.050847     0.041667        0        1\n",
       "3        0.083333     0.500000      0.084746     0.041667        0        1\n",
       "4        0.194444     0.777778      0.067797     0.041667        0        1\n",
       "..            ...          ...           ...          ...      ...      ...\n",
       "145      0.666667     0.444444      0.711864     0.916667        2        0\n",
       "146      0.555556     0.166667      0.677966     0.750000        2        0\n",
       "147      0.611111     0.444444      0.711864     0.791667        2        0\n",
       "148      0.527778     0.666667      0.745763     0.916667        2        0\n",
       "149      0.444444     0.444444      0.694915     0.708333        2        0\n",
       "\n",
       "[143 rows x 6 columns]"
      ]
     },
     "execution_count": 195,
     "metadata": {},
     "output_type": "execute_result"
    }
   ],
   "source": [
    "df_cleaned['cluster']= y_pred\n",
    "df_cleaned"
   ]
  },
  {
   "cell_type": "code",
   "execution_count": 196,
   "metadata": {},
   "outputs": [
    {
     "data": {
      "text/plain": [
       "array([[ 6.63958333e+00,  2.98958333e+00,  5.58333333e+00,\n",
       "         2.03541667e+00,  2.00000000e+00,  1.00000000e+00],\n",
       "       [ 4.98000000e+00,  3.37777778e+00,  1.46222222e+00,\n",
       "         2.51111111e-01,  6.66133815e-16,  2.00000000e+00],\n",
       "       [ 5.93400000e+00,  2.78000000e+00,  4.28000000e+00,\n",
       "         1.34000000e+00,  1.02000000e+00, -1.22124533e-15]])"
      ]
     },
     "execution_count": 196,
     "metadata": {},
     "output_type": "execute_result"
    }
   ],
   "source": [
    "k_means.cluster_centers_"
   ]
  },
  {
   "cell_type": "code",
   "execution_count": 222,
   "metadata": {},
   "outputs": [
    {
     "data": {
      "text/html": [
       "<div>\n",
       "<style scoped>\n",
       "    .dataframe tbody tr th:only-of-type {\n",
       "        vertical-align: middle;\n",
       "    }\n",
       "\n",
       "    .dataframe tbody tr th {\n",
       "        vertical-align: top;\n",
       "    }\n",
       "\n",
       "    .dataframe thead th {\n",
       "        text-align: right;\n",
       "    }\n",
       "</style>\n",
       "<table border=\"1\" class=\"dataframe\">\n",
       "  <thead>\n",
       "    <tr style=\"text-align: right;\">\n",
       "      <th></th>\n",
       "      <th>sepal_length</th>\n",
       "      <th>sepal_width</th>\n",
       "      <th>petal_length</th>\n",
       "      <th>petal_width</th>\n",
       "      <th>species</th>\n",
       "      <th>cluster</th>\n",
       "    </tr>\n",
       "  </thead>\n",
       "  <tbody>\n",
       "    <tr>\n",
       "      <th>0</th>\n",
       "      <td>0.222222</td>\n",
       "      <td>0.722222</td>\n",
       "      <td>0.067797</td>\n",
       "      <td>0.041667</td>\n",
       "      <td>0</td>\n",
       "      <td>1</td>\n",
       "    </tr>\n",
       "    <tr>\n",
       "      <th>1</th>\n",
       "      <td>0.166667</td>\n",
       "      <td>0.444444</td>\n",
       "      <td>0.067797</td>\n",
       "      <td>0.041667</td>\n",
       "      <td>0</td>\n",
       "      <td>1</td>\n",
       "    </tr>\n",
       "    <tr>\n",
       "      <th>2</th>\n",
       "      <td>0.111111</td>\n",
       "      <td>0.555556</td>\n",
       "      <td>0.050847</td>\n",
       "      <td>0.041667</td>\n",
       "      <td>0</td>\n",
       "      <td>1</td>\n",
       "    </tr>\n",
       "    <tr>\n",
       "      <th>3</th>\n",
       "      <td>0.083333</td>\n",
       "      <td>0.500000</td>\n",
       "      <td>0.084746</td>\n",
       "      <td>0.041667</td>\n",
       "      <td>0</td>\n",
       "      <td>1</td>\n",
       "    </tr>\n",
       "    <tr>\n",
       "      <th>4</th>\n",
       "      <td>0.194444</td>\n",
       "      <td>0.777778</td>\n",
       "      <td>0.067797</td>\n",
       "      <td>0.041667</td>\n",
       "      <td>0</td>\n",
       "      <td>1</td>\n",
       "    </tr>\n",
       "    <tr>\n",
       "      <th>...</th>\n",
       "      <td>...</td>\n",
       "      <td>...</td>\n",
       "      <td>...</td>\n",
       "      <td>...</td>\n",
       "      <td>...</td>\n",
       "      <td>...</td>\n",
       "    </tr>\n",
       "    <tr>\n",
       "      <th>145</th>\n",
       "      <td>0.666667</td>\n",
       "      <td>0.444444</td>\n",
       "      <td>0.711864</td>\n",
       "      <td>0.916667</td>\n",
       "      <td>2</td>\n",
       "      <td>2</td>\n",
       "    </tr>\n",
       "    <tr>\n",
       "      <th>146</th>\n",
       "      <td>0.555556</td>\n",
       "      <td>0.166667</td>\n",
       "      <td>0.677966</td>\n",
       "      <td>0.750000</td>\n",
       "      <td>2</td>\n",
       "      <td>2</td>\n",
       "    </tr>\n",
       "    <tr>\n",
       "      <th>147</th>\n",
       "      <td>0.611111</td>\n",
       "      <td>0.444444</td>\n",
       "      <td>0.711864</td>\n",
       "      <td>0.791667</td>\n",
       "      <td>2</td>\n",
       "      <td>2</td>\n",
       "    </tr>\n",
       "    <tr>\n",
       "      <th>148</th>\n",
       "      <td>0.527778</td>\n",
       "      <td>0.666667</td>\n",
       "      <td>0.745763</td>\n",
       "      <td>0.916667</td>\n",
       "      <td>2</td>\n",
       "      <td>2</td>\n",
       "    </tr>\n",
       "    <tr>\n",
       "      <th>149</th>\n",
       "      <td>0.444444</td>\n",
       "      <td>0.444444</td>\n",
       "      <td>0.694915</td>\n",
       "      <td>0.708333</td>\n",
       "      <td>2</td>\n",
       "      <td>2</td>\n",
       "    </tr>\n",
       "  </tbody>\n",
       "</table>\n",
       "<p>143 rows × 6 columns</p>\n",
       "</div>"
      ],
      "text/plain": [
       "     sepal_length  sepal_width  petal_length  petal_width  species  cluster\n",
       "0        0.222222     0.722222      0.067797     0.041667        0        1\n",
       "1        0.166667     0.444444      0.067797     0.041667        0        1\n",
       "2        0.111111     0.555556      0.050847     0.041667        0        1\n",
       "3        0.083333     0.500000      0.084746     0.041667        0        1\n",
       "4        0.194444     0.777778      0.067797     0.041667        0        1\n",
       "..            ...          ...           ...          ...      ...      ...\n",
       "145      0.666667     0.444444      0.711864     0.916667        2        2\n",
       "146      0.555556     0.166667      0.677966     0.750000        2        2\n",
       "147      0.611111     0.444444      0.711864     0.791667        2        2\n",
       "148      0.527778     0.666667      0.745763     0.916667        2        2\n",
       "149      0.444444     0.444444      0.694915     0.708333        2        2\n",
       "\n",
       "[143 rows x 6 columns]"
      ]
     },
     "execution_count": 222,
     "metadata": {},
     "output_type": "execute_result"
    }
   ],
   "source": [
    "# Perform KMeans clustering\n",
    "k_means = KMeans(n_clusters=3)\n",
    "clusters = k_means.fit_predict(new_df)\n",
    "\n",
    "# Add the cluster labels to the DataFrame\n",
    "df_cleaned['cluster'] = clusters\n",
    "df_cleaned\n",
    "\n",
    "# # Create subsets of the DataFrame based on cluster labels\n",
    "# df1 = df_cleaned[df_cleaned['cluster'] == 0]\n",
    "# df2 = df_cleaned[df_cleaned['cluster'] == 1]\n",
    "# df3 = df_cleaned[df_cleaned['cluster'] == 2]\n",
    "\n",
    "# # Plot the clusters\n",
    "# plt.scatter(df1['sepal_length'], df1['sepal_width'], color='purple', label='Cluster 1')\n",
    "# plt.scatter(df2['sepal_length'], df2['sepal_width'], color='red', label='Cluster 2')\n",
    "# plt.scatter(df3['sepal_length'], df3['sepal_width'], color='blue', label='Cluster 3')\n",
    "\n",
    "# centroids = k_means.cluster_centers_\n",
    "# plt.scatter(centroids[:, 0], centroids[:, 1], s=100, color='black', marker='', label='Centroids')\n",
    "\n",
    "# plt.xlabel('sepal_length')\n",
    "# plt.ylabel('Sepal Width')\n",
    "# plt.title('KMeans Clustering of Iris Dataset')\n",
    "# plt.legend()\n",
    "# plt.show()"
   ]
  },
  {
   "cell_type": "code",
   "execution_count": null,
   "metadata": {},
   "outputs": [],
   "source": []
  },
  {
   "cell_type": "code",
   "execution_count": null,
   "metadata": {},
   "outputs": [],
   "source": []
  },
  {
   "cell_type": "code",
   "execution_count": null,
   "metadata": {},
   "outputs": [],
   "source": []
  },
  {
   "cell_type": "code",
   "execution_count": 154,
   "metadata": {},
   "outputs": [
    {
     "data": {
      "text/plain": [
       "array([0, 0, 0, 0, 0, 0, 0, 0, 0, 0, 0, 0, 0, 0, 0, 0, 0, 0, 0, 0, 0, 0,\n",
       "       0, 0, 0, 0, 0, 0, 0, 0, 0, 0, 0, 0, 0, 0, 0, 0, 0, 0, 0, 0, 0, 0,\n",
       "       0, 1, 1, 1, 1, 1, 1, 1, 1, 1, 1, 1, 1, 1, 1, 1, 1, 1, 1, 1, 1, 1,\n",
       "       1, 1, 1, 1, 1, 1, 1, 1, 1, 1, 1, 1, 1, 1, 1, 1, 1, 1, 1, 1, 1, 1,\n",
       "       1, 1, 1, 1, 1, 1, 2, 2, 2, 2, 2, 2, 1, 2, 2, 2, 2, 2, 2, 2, 2, 2,\n",
       "       2, 2, 2, 2, 2, 2, 2, 2, 2, 2, 2, 2, 2, 2, 2, 2, 2, 2, 2, 2, 2, 2,\n",
       "       2, 2, 2, 2, 2, 2, 2, 2, 2, 2, 2], dtype=int32)"
      ]
     },
     "execution_count": 154,
     "metadata": {},
     "output_type": "execute_result"
    }
   ],
   "source": [
    "from sklearn.cluster import KMeans\n",
    "\n",
    "# Set number of clusters at initialization time\n",
    "k_means = KMeans(n_clusters=3) \n",
    "\n",
    "# Run the clustering algorithm\n",
    "k_means.fit(df_cleaned) \n",
    "\n",
    "# Generate cluster index values for each row\n",
    "cluster_assignments = k_means.predict(df_cleaned)\n",
    "cluster_assignments\n",
    "\n",
    "# Cluster predictions for each point are also stored in k_means.labels_"
   ]
  },
  {
   "cell_type": "code",
   "execution_count": 156,
   "metadata": {},
   "outputs": [
    {
     "data": {
      "image/png": "[encoded data removed]",
      "text/plain": [
       "<Figure size 432x288 with 1 Axes>"
      ]
     },
     "metadata": {
      "needs_background": "light"
     },
     "output_type": "display_data"
    }
   ],
   "source": [
    "import matplotlib.pyplot as plt\n",
    "\n",
    "%matplotlib inline\n",
    "\n",
    "plt.scatter(features_2d[:,0],features_2d[:,1])\n",
    "plt.xlabel('Dimension 1')\n",
    "plt.ylabel('Dimension 2')\n",
    "plt.title('Data')\n",
    "plt.show()"
   ]
  },
  {
   "cell_type": "code",
   "execution_count": null,
   "metadata": {},
   "outputs": [],
   "source": []
  }
 ],
 "metadata": {
  "kernelspec": {
   "display_name": "datascience_env",
   "language": "python",
   "name": "datascience_env"
  },
  "language_info": {
   "codemirror_mode": {
    "name": "ipython",
    "version": 3
   },
   "file_extension": ".py",
   "mimetype": "text/x-python",
   "name": "python",
   "nbconvert_exporter": "python",
   "pygments_lexer": "ipython3",
   "version": "3.7.6"
  }
 },
 "nbformat": 4,
 "nbformat_minor": 5
}
